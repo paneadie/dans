{
 "cells": [
  {
   "cell_type": "code",
   "execution_count": 12,
   "metadata": {},
   "outputs": [],
   "source": [
    "import copy\n",
    "from fuzzywuzzy import process, fuzz\n",
    "from sqlalchemy import create_engine\n",
    "import pymysql\n",
    "import pandas as pd\n",
    "\n",
    "\n",
    "\n",
    "#### RUNNING HERE\n",
    "user = 'root'\n",
    "passw = 'MYSQLl0g1n!'\n",
    "host =  '127.0.0.1'\n",
    "port = 3306\n",
    "database = 'dans_dev'\n",
    "sqlEngine = create_engine('mysql+mysqlconnector://' + user + ':' + passw + '@' + host + ':' + str(port) + '/' + database , echo=False)\n",
    "dbConnection    = sqlEngine.connect()\n",
    "\n",
    "sql = \"With latest as (select Stockcode, max(ts_activity) ts_activity from raw_dans_raw_main group by Stockcode) select rdrm.* from raw_dans_raw_main rdrm, latest l where 1=1 and rdrm.Stockcode=l.Stockcode and rdrm.ts_activity=l.ts_activity ;\"\n",
    "\n",
    "wide = pd.read_sql(sql, dbConnection)\n",
    "wide = wide.iloc[: , 2:]\n",
    "\n",
    "wide[\"IsForDelivery\"] = wide[\"IsForDelivery\"].astype(bool)\n",
    "wide[\"Mystery\"] = wide[\"Mystery\"].astype(bool)\n",
    "\n"
   ]
  },
  {
   "cell_type": "code",
   "execution_count": 24,
   "metadata": {},
   "outputs": [],
   "source": [
    "output = build_table(wide.head(10),  \"grey_light\")"
   ]
  },
  {
   "cell_type": "code",
   "execution_count": 25,
   "metadata": {},
   "outputs": [],
   "source": [
    "Html_file= open(\"prettytble.html\",\"w\")\n",
    "Html_file.write(output)\n",
    "Html_file.close()"
   ]
  },
  {
   "cell_type": "code",
   "execution_count": null,
   "metadata": {},
   "outputs": [],
   "source": []
  }
 ],
 "metadata": {
  "kernelspec": {
   "display_name": "Python 3",
   "language": "python",
   "name": "python3"
  },
  "language_info": {
   "codemirror_mode": {
    "name": "ipython",
    "version": 3
   },
   "file_extension": ".py",
   "mimetype": "text/x-python",
   "name": "python",
   "nbconvert_exporter": "python",
   "pygments_lexer": "ipython3",
   "version": "3.7.6"
  }
 },
 "nbformat": 4,
 "nbformat_minor": 4
}
