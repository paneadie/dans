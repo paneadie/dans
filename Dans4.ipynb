{
 "cells": [
  {
   "cell_type": "code",
   "execution_count": 1,
   "metadata": {},
   "outputs": [],
   "source": [
    "from selenium import webdriver\n",
    "from selenium.webdriver.common.keys import Keys\n",
    "from selenium.webdriver.support.ui import Select\n",
    "from selenium.webdriver.common.by import By\n",
    "import pickle\n",
    "import requests\n",
    "import numpy as np\n",
    "import pandas as pd\n",
    "import time\n",
    "import csv\n",
    "import re\n",
    "import json\n",
    "import xlrd\n",
    "import os\n",
    "from selenium.common.exceptions import NoSuchElementException\n",
    "from datetime import datetime, date, timedelta\n",
    "import nltk\n",
    "#from flatten_json import flatten\n",
    "regex = re.compile(r\"\\[|\\]|<\", re.IGNORECASE)\n",
    "import time\n",
    "import copy"
   ]
  },
  {
   "cell_type": "code",
   "execution_count": 2,
   "metadata": {},
   "outputs": [
    {
     "name": "stdout",
     "output_type": "stream",
     "text": [
      "/home/stu/code/dans\n"
     ]
    }
   ],
   "source": [
    "%cd /home/stu/code/dans"
   ]
  },
  {
   "cell_type": "code",
   "execution_count": null,
   "metadata": {},
   "outputs": [],
   "source": [
    "#\n",
    "### Dans\n",
    "#make headless\n",
    "#options = Options()\n",
    "#options.headless = True\n",
    "\n",
    "#driver = webdriver.Firefox(options=options,executable_path=r'/usr/local/bin/geckodriver')\n",
    "\n",
    "#path = \"https://www.danmurphys.com.au/red-wine/all\"\n",
    "#driver.get(path)   \n",
    "\n",
    "#file = \"scraped_\" + time.strftime(\"%Y%m%d\") + \".csv\"\n",
    "\n",
    "\n",
    "# with open(file, \"w\") as csvFile:\n",
    "#     #path = \"https://www.danmurphys.com.au/red-wine/all\"\n",
    "#     fieldnames = ['URL']\n",
    "#     writer = csv.DictWriter(csvFile, fieldnames=fieldnames)\n",
    "#     writer.writeheader()\n",
    "#     for item in range(1,223):\n",
    "#         driver = webdriver.Firefox(executable_path=r'/usr/local/bin/geckodriver')\n",
    "#         path = \"https://www.danmurphys.com.au/red-wine/all?page=\" + str(item)\n",
    "#         driver.implicitly_wait(1)\n",
    "#         driver.get(path)\n",
    "#         elems = driver.find_elements_by_xpath(\"//a[@href]\")\n",
    "#         for elem in elems:\n",
    "#             writer.writerow({'URL': elem.get_attribute(\"href\")})\n",
    "#         driver.close()\n",
    "\n"
   ]
  },
  {
   "cell_type": "code",
   "execution_count": 13,
   "metadata": {},
   "outputs": [
    {
     "data": {
      "text/html": [
       "<div>\n",
       "<style scoped>\n",
       "    .dataframe tbody tr th:only-of-type {\n",
       "        vertical-align: middle;\n",
       "    }\n",
       "\n",
       "    .dataframe tbody tr th {\n",
       "        vertical-align: top;\n",
       "    }\n",
       "\n",
       "    .dataframe thead th {\n",
       "        text-align: right;\n",
       "    }\n",
       "</style>\n",
       "<table border=\"1\" class=\"dataframe\">\n",
       "  <thead>\n",
       "    <tr style=\"text-align: right;\">\n",
       "      <th></th>\n",
       "      <th>URL</th>\n",
       "    </tr>\n",
       "  </thead>\n",
       "  <tbody>\n",
       "    <tr>\n",
       "      <th>count</th>\n",
       "      <td>1228</td>\n",
       "    </tr>\n",
       "    <tr>\n",
       "      <th>unique</th>\n",
       "      <td>546</td>\n",
       "    </tr>\n",
       "    <tr>\n",
       "      <th>top</th>\n",
       "      <td>https://www.danmurphys.com.au/liquor-library</td>\n",
       "    </tr>\n",
       "    <tr>\n",
       "      <th>freq</th>\n",
       "      <td>22</td>\n",
       "    </tr>\n",
       "  </tbody>\n",
       "</table>\n",
       "</div>"
      ],
      "text/plain": [
       "                                                 URL\n",
       "count                                           1228\n",
       "unique                                           546\n",
       "top     https://www.danmurphys.com.au/liquor-library\n",
       "freq                                              22"
      ]
     },
     "execution_count": 13,
     "metadata": {},
     "output_type": "execute_result"
    }
   ],
   "source": []
  },
  {
   "cell_type": "code",
   "execution_count": 4,
   "metadata": {},
   "outputs": [],
   "source": [
    "# import glob\n",
    "\n",
    "# path = r'/home/stu/code/dans' # use your path\n",
    "# all_files = glob.glob(path + \"/scraped*.csv\")\n",
    "\n",
    "# li = []\n",
    "\n",
    "# for filename in all_files:\n",
    "#     df = pd.read_csv(filename, index_col=None, header=0)\n",
    "#     li.append(df)\n",
    "\n",
    "# frame = pd.concat(li, axis=0, ignore_index=True)"
   ]
  },
  {
   "cell_type": "code",
   "execution_count": 5,
   "metadata": {},
   "outputs": [],
   "source": [
    "# wines = frame\n",
    "# # And now I'll filter out the product linkes\n",
    "# wines = wines[wines.URL.str.contains('https://www.danmurphys.com.au/product')]\n",
    "\n",
    "# wines = wines.replace(r'https://www.danmurphys.com.au/product/DM_', r'', regex=True)\n",
    "# wines = wines.replace(r'/.*$', r'', regex=True)\n",
    "# wines = wines.drop_duplicates()\n",
    "# wines.to_csv(\"about_to_api.csv\")"
   ]
  },
  {
   "cell_type": "code",
   "execution_count": null,
   "metadata": {},
   "outputs": [
    {
     "name": "stdout",
     "output_type": "stream",
     "text": [
      "No product found\n"
     ]
    }
   ],
   "source": [
    "# #wines\n",
    "# #mylist = df['Cleaned'].tolist()\n",
    "# mylist = wines['URL'].tolist()\n",
    "\n",
    "# #ylist = mylist[0:100]\n",
    "# result = []\n",
    "\n",
    "# for wine in mylist:\n",
    "#     url = \"https://api.danmurphys.com.au/apis/ui/Product/\" + str(wine)\n",
    "#     try:\n",
    "#         r = requests.get(url).json()\n",
    "#         rtoo = pd.json_normalize(r[\"Products\"])\n",
    "#         result.append(rtoo)\n",
    "#     except:\n",
    "#         print(\"No product found\")\n",
    "\n",
    "# my_df = pd.concat(result)\n",
    "# file_res = \"API_results_\" + time.strftime(\"%Y%m%d\") + \".csv\"\n",
    "# my_df.to_csv(file_res)\n",
    "# #pd.json_normalize(flatten(r))\n",
    "\n",
    "\n"
   ]
  },
  {
   "cell_type": "code",
   "execution_count": 3,
   "metadata": {},
   "outputs": [],
   "source": [
    "file_res = \"API_results_\" + time.strftime(\"%Y%m%d\") + \".csv\"\n",
    "my_df = pd.read_csv(file_res)\n",
    "\n",
    "## Categories\n",
    "#my_df[\"Categories\"]\n",
    "# Willnjust keep 2 levels.\n",
    "my_df[\"Categories\"] = my_df[\"Categories\"].map(eval, na_action='ignore')\n",
    "new_df = my_df[\"Categories\"].apply(pd.Series)\n",
    "my_df[\"Categories\"] = new_df[0].apply(pd.Series).UrlFriendlyName\n",
    "my_df[\"Sub_Categories\"] = new_df[1].apply(pd.Series).UrlFriendlyName\n",
    "\n"
   ]
  },
  {
   "cell_type": "code",
   "execution_count": 4,
   "metadata": {},
   "outputs": [],
   "source": [
    "\n",
    "## Reviews\n",
    "my_df[\"Reviews\"] = my_df[\"Reviews\"].map(eval,  na_action='ignore')\n",
    "# Try with first 2 reviews\n",
    "new_df = my_df[\"Reviews\"].apply(pd.Series)\n",
    "# First\n",
    "my_df[\"Review1_auth\"] = new_df[0].apply(pd.Series).author.apply(pd.Series).Value\n",
    "my_df[\"Review1_authorcontent\"] = new_df[0].apply(pd.Series).authorcontent.apply(pd.Series).Value\n",
    "my_df[\"Review1_points\"] = new_df[0].apply(pd.Series).points.apply(pd.Series).Value\n",
    "my_df[\"Review1_source\"] = new_df[0].apply(pd.Series).source.apply(pd.Series).Value\n",
    "my_df[\"Review1_text\"] = new_df[0].apply(pd.Series).text.apply(pd.Series).Value\n",
    "my_df[\"Review1_vintage\"] = new_df[0].apply(pd.Series).vintage.apply(pd.Series).Value\n",
    "# Second\n",
    "my_df[\"Review2_auth\"] = new_df[1].apply(pd.Series).author.apply(pd.Series).Value\n",
    "my_df[\"Review2_authorcontent\"] = new_df[1].apply(pd.Series).authorcontent.apply(pd.Series).Value\n",
    "my_df[\"Review2_points\"] = new_df[1].apply(pd.Series).points.apply(pd.Series).Value\n",
    "my_df[\"Review2_source\"] = new_df[1].apply(pd.Series).source.apply(pd.Series).Value\n",
    "my_df[\"Review2_text\"] = new_df[1].apply(pd.Series).text.apply(pd.Series).Value\n",
    "my_df[\"Review2_vintage\"] = new_df[1].apply(pd.Series).vintage.apply(pd.Series).Value\n",
    "\n"
   ]
  },
  {
   "cell_type": "code",
   "execution_count": 5,
   "metadata": {},
   "outputs": [],
   "source": [
    "# Additional details\n",
    "my_df[\"AdditionalDetails\"] = my_df[\"AdditionalDetails\"].map(eval,  na_action='ignore')"
   ]
  },
  {
   "cell_type": "code",
   "execution_count": 6,
   "metadata": {},
   "outputs": [],
   "source": [
    "#my_df.to_csv(\"pre-norm.csv\")"
   ]
  },
  {
   "cell_type": "code",
   "execution_count": 7,
   "metadata": {},
   "outputs": [],
   "source": [
    "\n",
    "full_df = copy.deepcopy(my_df)"
   ]
  },
  {
   "cell_type": "code",
   "execution_count": 8,
   "metadata": {},
   "outputs": [],
   "source": [
    "#full_df.to_csv(\"full.csv\")"
   ]
  },
  {
   "cell_type": "code",
   "execution_count": 9,
   "metadata": {},
   "outputs": [],
   "source": [
    "# Can't use nested lists of JSON objects in pd.json_normalize\n",
    "my_df = my_df.explode(column=\"AdditionalDetails\").reset_index(drop=True)"
   ]
  },
  {
   "cell_type": "code",
   "execution_count": null,
   "metadata": {},
   "outputs": [],
   "source": []
  },
  {
   "cell_type": "code",
   "execution_count": 10,
   "metadata": {},
   "outputs": [],
   "source": [
    "#pd.json_normalize(my_df['AdditionalDetails']).pivot(columns='Name')['Value']"
   ]
  },
  {
   "cell_type": "code",
   "execution_count": 11,
   "metadata": {},
   "outputs": [],
   "source": [
    "# pd.json_normalize expects a list of JSON objects not a DataFrame\n",
    "#my_df = pd.concat([my_df, pd.json_normalize(my_df['AdditionalDetails'])], axis=1) "
   ]
  },
  {
   "cell_type": "code",
   "execution_count": 12,
   "metadata": {},
   "outputs": [],
   "source": [
    "add_df = pd.DataFrame(pd.json_normalize(my_df[\"AdditionalDetails\"]))"
   ]
  },
  {
   "cell_type": "code",
   "execution_count": 13,
   "metadata": {},
   "outputs": [],
   "source": [
    "del add_df[\"DisplayName\"]"
   ]
  },
  {
   "cell_type": "code",
   "execution_count": 14,
   "metadata": {},
   "outputs": [],
   "source": [
    "df = pd.concat([my_df,add_df],axis=1)"
   ]
  },
  {
   "cell_type": "code",
   "execution_count": 15,
   "metadata": {},
   "outputs": [],
   "source": [
    "df = df.pivot(index='Stockcode',columns='Name', values='Value')"
   ]
  },
  {
   "cell_type": "code",
   "execution_count": 16,
   "metadata": {},
   "outputs": [],
   "source": [
    "df.to_csv(\"mydf.csv\")\n",
    "df = pd.read_csv(\"mydf.csv\")"
   ]
  },
  {
   "cell_type": "code",
   "execution_count": 148,
   "metadata": {},
   "outputs": [],
   "source": [
    "#newdf =  pd.concat([full_df,df],axis=1)"
   ]
  },
  {
   "cell_type": "code",
   "execution_count": 149,
   "metadata": {},
   "outputs": [],
   "source": [
    "#full_df['Stockcode'] = df['Stockcode'].astype(str)"
   ]
  },
  {
   "cell_type": "code",
   "execution_count": 150,
   "metadata": {},
   "outputs": [],
   "source": [
    "#newdf = full_df.set_index('Stockcode').join(df.set_index('Stockcode'), lsuffix='_full', rsuffix='_new')"
   ]
  },
  {
   "cell_type": "code",
   "execution_count": 17,
   "metadata": {},
   "outputs": [],
   "source": [
    "newdf = pd.merge(full_df, df, on='Stockcode')"
   ]
  },
  {
   "cell_type": "code",
   "execution_count": 18,
   "metadata": {},
   "outputs": [],
   "source": [
    "newdf.to_csv(\"newdf.csv\")"
   ]
  },
  {
   "cell_type": "code",
   "execution_count": 19,
   "metadata": {},
   "outputs": [
    {
     "name": "stderr",
     "output_type": "stream",
     "text": [
      "/home/stu/anaconda3/lib/python3.7/site-packages/IPython/core/interactiveshell.py:3063: DtypeWarning: Columns (90,91,92,108,115,119,123,151,153,155,156) have mixed types.Specify dtype option on import or set low_memory=False.\n",
      "  interactivity=interactivity, compiler=compiler, result=result)\n"
     ]
    }
   ],
   "source": [
    "newdf = pd.read_csv(\"newdf.csv\")"
   ]
  },
  {
   "cell_type": "code",
   "execution_count": 152,
   "metadata": {
    "collapsed": true,
    "jupyter": {
     "outputs_hidden": true
    }
   },
   "outputs": [
    {
     "data": {
      "text/plain": [
       "['Unnamed: 0',\n",
       " 'RecommendedProducts',\n",
       " 'ProductsInSameOffer',\n",
       " 'Categories',\n",
       " 'BackorderMessage',\n",
       " 'Reviews',\n",
       " 'DeliveryOptionsInfo',\n",
       " 'SavedLists',\n",
       " 'Stockcode',\n",
       " 'Description',\n",
       " 'SmallImageFile',\n",
       " 'MediumImageFile',\n",
       " 'LargeImageFile',\n",
       " 'IsOnSpecial',\n",
       " 'IsMemberSpecial',\n",
       " 'IsEdrSpecial',\n",
       " 'QuantityInTrolley',\n",
       " 'Unit',\n",
       " 'MinimumQuantity',\n",
       " 'IsInTrolley',\n",
       " 'Source',\n",
       " 'SupplyLimit',\n",
       " 'PackageSize',\n",
       " 'IsForCollection',\n",
       " 'IsForDelivery',\n",
       " 'IsPurchasable',\n",
       " 'IsFindMeAvailable',\n",
       " 'ShouldShowFindMeCta',\n",
       " 'ProductTags',\n",
       " 'ProductSashes',\n",
       " 'UniqueSellingProposition',\n",
       " 'AgeRestricted',\n",
       " 'DisplayQuantity',\n",
       " 'RichDescription',\n",
       " 'IsFeaturedTag',\n",
       " 'OverallRating',\n",
       " 'NumberOfReviews',\n",
       " 'IsNew',\n",
       " 'ImageVariants',\n",
       " 'AdditionalDetails',\n",
       " 'ParentStockCode',\n",
       " 'StockOnHand',\n",
       " 'BackorderStockOnHand',\n",
       " 'IsPreSale',\n",
       " 'IsComingSoon',\n",
       " 'UrlFriendlyName',\n",
       " 'AvailablePackTypes',\n",
       " 'IsInWishList',\n",
       " 'IsInDefaultList',\n",
       " 'IsDeliveryOnly',\n",
       " 'GroupedDetails.image',\n",
       " 'GroupedDetails.workflow',\n",
       " 'PickupStoreInventoryInfo.StoreNo',\n",
       " 'PickupStoreInventoryInfo.StoreName',\n",
       " 'PickupStoreInventoryInfo.Available',\n",
       " 'PickupStoreInventoryInfo.DistanceFromDeliveryLocation',\n",
       " 'Prices.inanysixprice.Message',\n",
       " 'Prices.inanysixprice.Value',\n",
       " 'Prices.inanysixprice.PreText',\n",
       " 'Prices.inanysixprice.BeforePromotion',\n",
       " 'Prices.inanysixprice.AfterPromotion',\n",
       " 'Prices.inanysixprice.IsMemberOffer',\n",
       " 'Prices.caseprice.Message',\n",
       " 'Prices.caseprice.Value',\n",
       " 'Prices.caseprice.PreText',\n",
       " 'Prices.caseprice.BeforePromotion',\n",
       " 'Prices.caseprice.AfterPromotion',\n",
       " 'Prices.caseprice.IsMemberOffer',\n",
       " 'Prices.singleprice.Message',\n",
       " 'Prices.singleprice.Value',\n",
       " 'Prices.singleprice.PreText',\n",
       " 'Prices.singleprice.BeforePromotion',\n",
       " 'Prices.singleprice.AfterPromotion',\n",
       " 'Prices.singleprice.IsMemberOffer',\n",
       " 'Inventory.availableinventoryqty',\n",
       " 'Inventory.backorderavailableinventoryqty',\n",
       " 'Inventory.backorderinventoryflag',\n",
       " 'Inventory.samedaydeliveryinventoryqty',\n",
       " 'Inventory.nextdaydeliveryinventoryqty',\n",
       " 'Inventory.pickadaydeliveryinventoryqty',\n",
       " 'Inventory.clickandcollect2hrsinventoryqty',\n",
       " 'Inventory.clickandcollect7daysinventoryqty',\n",
       " 'Inventory.findinstoreinventoryqty',\n",
       " 'Inventory.samedaydeliveryinventoryqtymessage',\n",
       " 'Inventory.nextdaydeliveryinventoryqtymessage',\n",
       " 'Inventory.pickadaydeliveryinventoryqtymessage',\n",
       " 'Inventory.clickandcollect2hrsinventoryqtymessage',\n",
       " 'Inventory.clickandcollect7daysinventoryqtymessage',\n",
       " 'Inventory.findinstoreinventoryqtymessage',\n",
       " 'Inventory.isfindme2hrsinventoryavailable',\n",
       " 'Inventory.isfindme7daysinventoryavailable',\n",
       " 'Inventory.isfindmedeliveryinventoryavailable',\n",
       " 'GroupedDetails.video',\n",
       " 'Prices.promoprice.Message',\n",
       " 'Prices.promoprice.Value',\n",
       " 'Prices.promoprice.PreText',\n",
       " 'Prices.promoprice.BeforePromotion',\n",
       " 'Prices.promoprice.AfterPromotion',\n",
       " 'Prices.promoprice.IsMemberOffer',\n",
       " 'Inventory.onlineinventoryqty',\n",
       " 'Inventory',\n",
       " 'Sub_Categories',\n",
       " 'Review1_auth',\n",
       " 'Review1_authorcontent',\n",
       " 'Review1_points',\n",
       " 'Review1_source',\n",
       " 'Review1_text',\n",
       " 'Review1_vintage',\n",
       " 'Review2_auth',\n",
       " 'Review2_authorcontent',\n",
       " 'Review2_points',\n",
       " 'Review2_source',\n",
       " 'Review2_text',\n",
       " 'Review2_vintage',\n",
       " 'awardwinner',\n",
       " 'brewery',\n",
       " 'categoryleafnodeid',\n",
       " 'corkscoreeligible',\n",
       " 'countryoforigin',\n",
       " 'dm_stockcode',\n",
       " 'glutenfree',\n",
       " 'image1',\n",
       " 'image2',\n",
       " 'image3',\n",
       " 'image4',\n",
       " 'preservativefree',\n",
       " 'product_short_name',\n",
       " 'producttitle',\n",
       " 'standarddrinks',\n",
       " 'varietal',\n",
       " 'webalcoholpercentage',\n",
       " 'webaverageproductrating',\n",
       " 'webbadgescollection',\n",
       " 'webbadgescollection2',\n",
       " 'webbottleclosure',\n",
       " 'webbrandname',\n",
       " 'webbundleexpandincart',\n",
       " 'webbundleskucomponent',\n",
       " 'webbundleskuquantity',\n",
       " 'webcountryoforigin',\n",
       " 'webdescriptionshort',\n",
       " 'webdsvflag',\n",
       " 'webdsvname',\n",
       " 'webdsvvendorid',\n",
       " 'webfoodmatch',\n",
       " 'webisorganic',\n",
       " 'webisvegan',\n",
       " 'weblangtonsclassification',\n",
       " 'webliquorsize',\n",
       " 'webmaincategory',\n",
       " 'webmaxquantity',\n",
       " 'webminquantity',\n",
       " 'webpacksizecase',\n",
       " 'webpacksizeinner',\n",
       " 'webpacktype',\n",
       " 'webpresaledmmaxqtylimit',\n",
       " 'webpresaleenddate',\n",
       " 'webpresaleflag',\n",
       " 'webpresalemarketlaunchdate',\n",
       " 'webpresalemdmmaxqtylimit',\n",
       " 'webpresaleorderreleasedate',\n",
       " 'webpresalestartdate',\n",
       " 'webpresaleusermaxqtylimit',\n",
       " 'webproductcanbechilled',\n",
       " 'webproductname',\n",
       " 'webproductsale',\n",
       " 'webproducttype',\n",
       " 'webpromomdmmessage',\n",
       " 'webpromomessage',\n",
       " 'webpromomessageenddt',\n",
       " 'webpromomessagestartdt',\n",
       " 'webpromosecondmesgenddt',\n",
       " 'webpromosecondmesgstartdt',\n",
       " 'webpromosecondmessage',\n",
       " 'webpromotionalbundle',\n",
       " 'webregionoforigin',\n",
       " 'webstateoforigin',\n",
       " 'webtitle',\n",
       " 'webtotalreviewcount',\n",
       " 'webvideourl',\n",
       " 'webvintagecurrent',\n",
       " 'webvintagenote',\n",
       " 'webwinebody',\n",
       " 'webwinemaker',\n",
       " 'webwinestyle']"
      ]
     },
     "execution_count": 152,
     "metadata": {},
     "output_type": "execute_result"
    }
   ],
   "source": [
    "list(newdf)"
   ]
  },
  {
   "cell_type": "code",
   "execution_count": null,
   "metadata": {},
   "outputs": [],
   "source": [
    "Text to TFIDF\n",
    "'webdescriptionshort',\n",
    "'RichDescription',\n",
    " "
   ]
  },
  {
   "cell_type": "code",
   "execution_count": 20,
   "metadata": {},
   "outputs": [],
   "source": [
    "gives = newdf[['Stockcode','webproductname','Prices.singleprice.Value','Prices.promoprice.Value','Prices.promoprice.BeforePromotion','Prices.promoprice.AfterPromotion']]"
   ]
  },
  {
   "cell_type": "code",
   "execution_count": 21,
   "metadata": {},
   "outputs": [],
   "source": [
    "gives = gives[gives.webproductname.notnull()]"
   ]
  },
  {
   "cell_type": "code",
   "execution_count": 22,
   "metadata": {},
   "outputs": [],
   "source": [
    "gives = gives[gives['Stockcode'].str.contains(\"MYSTERY\")]"
   ]
  },
  {
   "cell_type": "code",
   "execution_count": 23,
   "metadata": {},
   "outputs": [],
   "source": [
    "gives = gives[~gives[\"webproductname\"].str.contains(\"Wraps\")]"
   ]
  },
  {
   "cell_type": "code",
   "execution_count": 24,
   "metadata": {},
   "outputs": [
    {
     "data": {
      "text/html": [
       "<div>\n",
       "<style scoped>\n",
       "    .dataframe tbody tr th:only-of-type {\n",
       "        vertical-align: middle;\n",
       "    }\n",
       "\n",
       "    .dataframe tbody tr th {\n",
       "        vertical-align: top;\n",
       "    }\n",
       "\n",
       "    .dataframe thead th {\n",
       "        text-align: right;\n",
       "    }\n",
       "</style>\n",
       "<table border=\"1\" class=\"dataframe\">\n",
       "  <thead>\n",
       "    <tr style=\"text-align: right;\">\n",
       "      <th></th>\n",
       "      <th>Stockcode</th>\n",
       "      <th>webproductname</th>\n",
       "      <th>Prices.singleprice.Value</th>\n",
       "      <th>Prices.promoprice.Value</th>\n",
       "      <th>Prices.promoprice.BeforePromotion</th>\n",
       "      <th>Prices.promoprice.AfterPromotion</th>\n",
       "    </tr>\n",
       "  </thead>\n",
       "  <tbody>\n",
       "    <tr>\n",
       "      <th>727</th>\n",
       "      <td>MYSTERY437</td>\n",
       "      <td>Alkoomi Blackbutt Cabernet Merlot Cabernet Franc</td>\n",
       "      <td>59.99</td>\n",
       "      <td>30.0</td>\n",
       "      <td>59.99</td>\n",
       "      <td>30.0</td>\n",
       "    </tr>\n",
       "    <tr>\n",
       "      <th>772</th>\n",
       "      <td>MYSTERY411</td>\n",
       "      <td>Craggy Range Le Sol Syrah 2010</td>\n",
       "      <td>155.99</td>\n",
       "      <td>79.9</td>\n",
       "      <td>155.99</td>\n",
       "      <td>79.9</td>\n",
       "    </tr>\n",
       "    <tr>\n",
       "      <th>951</th>\n",
       "      <td>MYSTERY459</td>\n",
       "      <td>Forest Hill Block 5 Caberent Sauvignon</td>\n",
       "      <td>30.00</td>\n",
       "      <td>NaN</td>\n",
       "      <td>NaN</td>\n",
       "      <td>NaN</td>\n",
       "    </tr>\n",
       "    <tr>\n",
       "      <th>1214</th>\n",
       "      <td>MYSTERY261</td>\n",
       "      <td>Known Pleasures McLaren Vale Shiraz 2017</td>\n",
       "      <td>59.99</td>\n",
       "      <td>20.0</td>\n",
       "      <td>59.99</td>\n",
       "      <td>20.0</td>\n",
       "    </tr>\n",
       "    <tr>\n",
       "      <th>1585</th>\n",
       "      <td>MYSTERY28</td>\n",
       "      <td>Secret Selection McLaren Vale Shiraz Grenache ...</td>\n",
       "      <td>49.99</td>\n",
       "      <td>16.9</td>\n",
       "      <td>49.99</td>\n",
       "      <td>16.9</td>\n",
       "    </tr>\n",
       "    <tr>\n",
       "      <th>1774</th>\n",
       "      <td>MYSTERY451</td>\n",
       "      <td>Peos Estate Pinot Noir</td>\n",
       "      <td>8.00</td>\n",
       "      <td>NaN</td>\n",
       "      <td>NaN</td>\n",
       "      <td>NaN</td>\n",
       "    </tr>\n",
       "    <tr>\n",
       "      <th>2029</th>\n",
       "      <td>MYSTERY406</td>\n",
       "      <td>Alkoomi Frankland River Shiraz Viognier</td>\n",
       "      <td>21.99</td>\n",
       "      <td>14.9</td>\n",
       "      <td>21.99</td>\n",
       "      <td>14.9</td>\n",
       "    </tr>\n",
       "    <tr>\n",
       "      <th>2154</th>\n",
       "      <td>MYSTERY513</td>\n",
       "      <td>*</td>\n",
       "      <td>39.99</td>\n",
       "      <td>15.0</td>\n",
       "      <td>39.99</td>\n",
       "      <td>15.0</td>\n",
       "    </tr>\n",
       "    <tr>\n",
       "      <th>2888</th>\n",
       "      <td>MYSTERY378</td>\n",
       "      <td>Peos Estate Cab Sauv</td>\n",
       "      <td>22.99</td>\n",
       "      <td>15.0</td>\n",
       "      <td>22.99</td>\n",
       "      <td>15.0</td>\n",
       "    </tr>\n",
       "    <tr>\n",
       "      <th>3046</th>\n",
       "      <td>MYSTERY540</td>\n",
       "      <td>Jim Barry The Benbournie Cabernet Sauvignon 2014</td>\n",
       "      <td>35.88</td>\n",
       "      <td>NaN</td>\n",
       "      <td>NaN</td>\n",
       "      <td>NaN</td>\n",
       "    </tr>\n",
       "    <tr>\n",
       "      <th>3062</th>\n",
       "      <td>MYSTERY242</td>\n",
       "      <td>Gibson My Darling Merlot 2014</td>\n",
       "      <td>24.99</td>\n",
       "      <td>14.9</td>\n",
       "      <td>24.99</td>\n",
       "      <td>14.9</td>\n",
       "    </tr>\n",
       "    <tr>\n",
       "      <th>3299</th>\n",
       "      <td>MYSTERY594</td>\n",
       "      <td>Feathered Friends Heathcote Shiraz Cabernet 2015</td>\n",
       "      <td>25.00</td>\n",
       "      <td>15.0</td>\n",
       "      <td>25.00</td>\n",
       "      <td>15.0</td>\n",
       "    </tr>\n",
       "    <tr>\n",
       "      <th>3533</th>\n",
       "      <td>MYSTERY460</td>\n",
       "      <td>Forest Hill Block 9 Shiraz</td>\n",
       "      <td>59.99</td>\n",
       "      <td>26.9</td>\n",
       "      <td>59.99</td>\n",
       "      <td>26.9</td>\n",
       "    </tr>\n",
       "    <tr>\n",
       "      <th>3936</th>\n",
       "      <td>MYSTERY213</td>\n",
       "      <td>El Desperado Pinot Noir 2017</td>\n",
       "      <td>19.99</td>\n",
       "      <td>10.9</td>\n",
       "      <td>19.99</td>\n",
       "      <td>10.9</td>\n",
       "    </tr>\n",
       "  </tbody>\n",
       "</table>\n",
       "</div>"
      ],
      "text/plain": [
       "       Stockcode                                     webproductname  \\\n",
       "727   MYSTERY437   Alkoomi Blackbutt Cabernet Merlot Cabernet Franc   \n",
       "772   MYSTERY411                     Craggy Range Le Sol Syrah 2010   \n",
       "951   MYSTERY459             Forest Hill Block 5 Caberent Sauvignon   \n",
       "1214  MYSTERY261           Known Pleasures McLaren Vale Shiraz 2017   \n",
       "1585   MYSTERY28  Secret Selection McLaren Vale Shiraz Grenache ...   \n",
       "1774  MYSTERY451                             Peos Estate Pinot Noir   \n",
       "2029  MYSTERY406            Alkoomi Frankland River Shiraz Viognier   \n",
       "2154  MYSTERY513                                                *     \n",
       "2888  MYSTERY378                               Peos Estate Cab Sauv   \n",
       "3046  MYSTERY540   Jim Barry The Benbournie Cabernet Sauvignon 2014   \n",
       "3062  MYSTERY242                      Gibson My Darling Merlot 2014   \n",
       "3299  MYSTERY594   Feathered Friends Heathcote Shiraz Cabernet 2015   \n",
       "3533  MYSTERY460                         Forest Hill Block 9 Shiraz   \n",
       "3936  MYSTERY213                       El Desperado Pinot Noir 2017   \n",
       "\n",
       "      Prices.singleprice.Value  Prices.promoprice.Value  \\\n",
       "727                      59.99                     30.0   \n",
       "772                     155.99                     79.9   \n",
       "951                      30.00                      NaN   \n",
       "1214                     59.99                     20.0   \n",
       "1585                     49.99                     16.9   \n",
       "1774                      8.00                      NaN   \n",
       "2029                     21.99                     14.9   \n",
       "2154                     39.99                     15.0   \n",
       "2888                     22.99                     15.0   \n",
       "3046                     35.88                      NaN   \n",
       "3062                     24.99                     14.9   \n",
       "3299                     25.00                     15.0   \n",
       "3533                     59.99                     26.9   \n",
       "3936                     19.99                     10.9   \n",
       "\n",
       "      Prices.promoprice.BeforePromotion  Prices.promoprice.AfterPromotion  \n",
       "727                               59.99                              30.0  \n",
       "772                              155.99                              79.9  \n",
       "951                                 NaN                               NaN  \n",
       "1214                              59.99                              20.0  \n",
       "1585                              49.99                              16.9  \n",
       "1774                                NaN                               NaN  \n",
       "2029                              21.99                              14.9  \n",
       "2154                              39.99                              15.0  \n",
       "2888                              22.99                              15.0  \n",
       "3046                                NaN                               NaN  \n",
       "3062                              24.99                              14.9  \n",
       "3299                              25.00                              15.0  \n",
       "3533                              59.99                              26.9  \n",
       "3936                              19.99                              10.9  "
      ]
     },
     "execution_count": 24,
     "metadata": {},
     "output_type": "execute_result"
    }
   ],
   "source": [
    "gives"
   ]
  },
  {
   "cell_type": "code",
   "execution_count": null,
   "metadata": {},
   "outputs": [],
   "source": []
  },
  {
   "cell_type": "code",
   "execution_count": 25,
   "metadata": {
    "jupyter": {
     "source_hidden": true
    }
   },
   "outputs": [],
   "source": [
    "keep =['Categories',\n",
    " 'Stockcode',\n",
    " 'PackageSize',\n",
    " 'Prices.inanysixprice.Message',\n",
    " 'Prices.inanysixprice.Value',\n",
    " 'Sub_Categories',\n",
    " 'Review1_auth',\n",
    " 'Review1_points',\n",
    " 'Review1_source',\n",
    " 'awardwinner',\n",
    " 'glutenfree',\n",
    " 'preservativefree',\n",
    " 'varietal',\n",
    " 'webalcoholpercentage',\n",
    " 'webbottleclosure',\n",
    " 'webcountryoforigin',\n",
    " 'webfoodmatch',\n",
    " 'webisorganic',\n",
    " 'webisvegan',\n",
    " 'webliquorsize',\n",
    " 'webmaincategory',\n",
    " 'webregionoforigin',\n",
    " 'webstateoforigin',\n",
    " 'webtotalreviewcount',\n",
    " 'webwinebody',\n",
    " 'webwinestyle']                                                                                                      "
   ]
  },
  {
   "cell_type": "code",
   "execution_count": null,
   "metadata": {
    "jupyter": {
     "source_hidden": true
    }
   },
   "outputs": [],
   "source": [
    "keep1 =['Categories',\n",
    " 'Stockcode',\n",
    " 'PackageSize',\n",
    " 'RichDescription',\n",
    " 'Prices.inanysixprice.Message',\n",
    " 'Prices.inanysixprice.Value',\n",
    " 'Sub_Categories',\n",
    " 'Review1_auth',\n",
    " 'Review1_points',\n",
    " 'Review1_source',\n",
    " 'awardwinner',\n",
    " 'glutenfree',\n",
    " 'preservativefree',\n",
    " 'varietal',\n",
    " 'webalcoholpercentage',\n",
    " 'webbottleclosure',\n",
    " 'webcountryoforigin',\n",
    " 'webdescriptionshort',\n",
    " 'webfoodmatch',\n",
    " 'webisorganic',\n",
    " 'webisvegan',\n",
    " 'webliquorsize',\n",
    " 'webmaincategory',\n",
    " 'webregionoforigin',\n",
    " 'webstateoforigin',\n",
    " 'webtotalreviewcount',\n",
    " 'webwinebody',\n",
    " 'webwinestyle']     "
   ]
  },
  {
   "cell_type": "code",
   "execution_count": 18,
   "metadata": {},
   "outputs": [
    {
     "ename": "NameError",
     "evalue": "name 'keep' is not defined",
     "output_type": "error",
     "traceback": [
      "\u001b[0;31m---------------------------------------------------------------------------\u001b[0m",
      "\u001b[0;31mNameError\u001b[0m                                 Traceback (most recent call last)",
      "\u001b[0;32m<ipython-input-18-552351998327>\u001b[0m in \u001b[0;36m<module>\u001b[0;34m\u001b[0m\n\u001b[1;32m     15\u001b[0m \u001b[0;31m#keep = ['Description','Stockcode','PackageSize','Prices.inanysixprice.Value','Prices.caseprice.Value','Prices.singleprice.Value','Prices.promoprice.Message','Prices.promoprice.Value','Prices.promoprice.PreText','Sub_Categories','Review1_auth','Review1_points','Review1_vintage','awardwinner','countryoforigin','standarddrinks','webalcoholpercentage','webaverageproductrating','webbadgescollection','webbottleclosure','webcountryoforigin','webdescriptionshort','webdsvflag','webfoodmatch','webisvegan','weblangtonsclassification','webliquorsize','webmaincategory','webpacksizecase','webpacktype','webregionoforigin','webstateoforigin','webvintagecurrent','webvintagenote','webwinebody','webwinestyle']\u001b[0m\u001b[0;34m\u001b[0m\u001b[0;34m\u001b[0m\u001b[0;34m\u001b[0m\u001b[0m\n\u001b[1;32m     16\u001b[0m \u001b[0;31m# Now Keep them.\u001b[0m\u001b[0;34m\u001b[0m\u001b[0;34m\u001b[0m\u001b[0;34m\u001b[0m\u001b[0m\n\u001b[0;32m---> 17\u001b[0;31m \u001b[0mkept\u001b[0m \u001b[0;34m=\u001b[0m \u001b[0mnewdf\u001b[0m\u001b[0;34m[\u001b[0m\u001b[0mkeep\u001b[0m\u001b[0;34m]\u001b[0m\u001b[0;34m\u001b[0m\u001b[0;34m\u001b[0m\u001b[0m\n\u001b[0m\u001b[1;32m     18\u001b[0m \u001b[0;31m#kept.to_csv('fri_big_run_kept.csv')\u001b[0m\u001b[0;34m\u001b[0m\u001b[0;34m\u001b[0m\u001b[0;34m\u001b[0m\u001b[0m\n\u001b[1;32m     19\u001b[0m \u001b[0mkept\u001b[0m\u001b[0;34m.\u001b[0m\u001b[0mreset_index\u001b[0m\u001b[0;34m(\u001b[0m\u001b[0mdrop\u001b[0m\u001b[0;34m=\u001b[0m\u001b[0;32mTrue\u001b[0m\u001b[0;34m,\u001b[0m \u001b[0minplace\u001b[0m\u001b[0;34m=\u001b[0m\u001b[0;32mTrue\u001b[0m\u001b[0;34m)\u001b[0m\u001b[0;34m\u001b[0m\u001b[0;34m\u001b[0m\u001b[0m\n",
      "\u001b[0;31mNameError\u001b[0m: name 'keep' is not defined"
     ]
    }
   ],
   "source": [
    "\n",
    "\n",
    "\n",
    "\n",
    "#check = pd.json_normalize(my_df[\"AdditionalDetails\"]).pivot(columns='Name')\n",
    "\n",
    "#check.to_csv(\"check.csv\")\n",
    "\n",
    "#check['Value']\n",
    "#my_df[\"AdditionalDetails\"].apply(pd.Series.explode)\n",
    "\n",
    "########### Would likely want ot save to DB at this tome/.\n",
    "\n",
    "#In excel: =TEXTJOIN(\"','\",TRUE,A1:CF1)\n",
    "#keep = ['Categories','BackorderMessage','varietal','DeliveryOptionsInfo','SavedLists','Stockcode','PackageSize','RichDescription','StockOnHand','UrlFriendlyName','IsDeliveryOnly','Prices.inanysixprice.Value','Prices.caseprice.Value','Prices.singleprice.Value','Inventory.availableinventoryqty','Prices.promoprice.Message','Prices.promoprice.Value','Prices.promoprice.PreText','Prices.promoprice.BeforePromotion','Prices.promoprice.AfterPromotion','Sub_Categories','Review1_auth','Review1_authorcontent','Review1_source','Review1_points','Review1_text','Review1_vintage','awardwinner','brewery','corkscoreeligible','countryoforigin','dm_stockcode','image1','image2','standarddrinks','webalcoholpercentage','webaverageproductrating','webbadgescollection','webbottleclosure','webcountryoforigin','webdescriptionshort','webdsvflag','webfoodmatch','webisvegan','weblangtonsclassification','webliquorsize','webmaincategory','webmaxquantity','webminquantity','webpacksizecase','webpacktype','webpresaleenddate','webpresaleflag','webpresalemarketlaunchdate','webpresalemdmmaxqtylimit','webpresaleorderreleasedate','webpresalestartdate','webpresaleusermaxqtylimit','webproductcanbechilled','webproductname','webproductsale','webproducttype','webpromomdmmessage','webpromomessage','webpromomessageenddt','webpromomessagestartdt','webpromosecondmesgenddt','webpromosecondmesgstartdt','webpromosecondmessage','webpromotionalbundle','webregionoforigin','webstateoforigin','webtotalreviewcount','webvideourl','webvintagecurrent','webvintagenote','webwinebody','webwinemaker','webwinestyle']\n",
    "#keep = ['Categories','BackorderMessage','Description','DeliveryOptionsInfo','SavedLists','Stockcode','PackageSize','StockOnHand','UrlFriendlyName','IsDeliveryOnly','Prices.inanysixprice.Value','Prices.caseprice.Value','Prices.singleprice.Value','Inventory.availableinventoryqty','Prices.promoprice.Message','Prices.promoprice.Value','Prices.promoprice.PreText','Prices.promoprice.BeforePromotion','Prices.promoprice.AfterPromotion','Sub_Categories','Review1_auth','Review1_authorcontent','Review1_source','Review1_points','Review1_text','Review1_vintage','awardwinner','brewery','corkscoreeligible','countryoforigin','dm_stockcode','image1','image2','standarddrinks','webalcoholpercentage','webaverageproductrating','webbadgescollection','webbottleclosure','webcountryoforigin','webdescriptionshort','webdsvflag','webfoodmatch','webisvegan','weblangtonsclassification','webliquorsize','webmaincategory','webmaxquantity','webminquantity','webpacksizecase','webpacktype','webpresaleenddate','webpresaleflag','webpresalemarketlaunchdate','webpresalemdmmaxqtylimit','webpresaleorderreleasedate','webpresalestartdate','webpresaleusermaxqtylimit','webproductcanbechilled','webproductname','webproductsale','webproducttype','webpromomdmmessage','webpromomessage','webpromomessageenddt','webpromomessagestartdt','webpromosecondmesgenddt','webpromosecondmesgstartdt','webpromosecondmessage','webpromotionalbundle','webregionoforigin','webstateoforigin','webtotalreviewcount','webvideourl','webvintagecurrent','webvintagenote','webwinebody','webwinemaker','webwinestyle']\n",
    "# Timmed version\n",
    "#### OLD KEEP\n",
    "#keep = ['Description','Stockcode','PackageSize','Prices.inanysixprice.Value','Prices.caseprice.Value','Prices.singleprice.Value','Prices.promoprice.Message','Prices.promoprice.Value','Prices.promoprice.PreText','Sub_Categories','Review1_auth','Review1_points','Review1_vintage','awardwinner','countryoforigin','standarddrinks','webalcoholpercentage','webaverageproductrating','webbadgescollection','webbottleclosure','webcountryoforigin','webdescriptionshort','webdsvflag','webfoodmatch','webisvegan','weblangtonsclassification','webliquorsize','webmaincategory','webpacksizecase','webpacktype','webregionoforigin','webstateoforigin','webvintagecurrent','webvintagenote','webwinebody','webwinestyle']\n",
    "# Now Keep them.\n",
    "kept = newdf[keep]\n",
    "#kept.to_csv('fri_big_run_kept.csv')\n",
    "kept.reset_index(drop=True, inplace=True)"
   ]
  },
  {
   "cell_type": "code",
   "execution_count": 27,
   "metadata": {},
   "outputs": [],
   "source": [
    "kept.to_csv(\"kept.csv\")"
   ]
  },
  {
   "cell_type": "code",
   "execution_count": null,
   "metadata": {},
   "outputs": [],
   "source": [
    "#text to TDIF\n",
    "'webdescriptionshort',\n",
    "'RichDescription',"
   ]
  },
  {
   "cell_type": "code",
   "execution_count": 65,
   "metadata": {},
   "outputs": [],
   "source": [
    "#kept = pd.read_csv(\"kept.csv\")"
   ]
  },
  {
   "cell_type": "code",
   "execution_count": null,
   "metadata": {},
   "outputs": [],
   "source": []
  },
  {
   "cell_type": "code",
   "execution_count": 28,
   "metadata": {},
   "outputs": [],
   "source": [
    "known = kept\n",
    "known.reset_index(drop=True, inplace=True)"
   ]
  },
  {
   "cell_type": "code",
   "execution_count": 29,
   "metadata": {},
   "outputs": [],
   "source": [
    "#### ONE HOT ENCODED\n",
    "##### First I split into numeric and nominal. OHE the nominal\n",
    "exclude_col = known.select_dtypes(include=np.number).columns.tolist() + [\"Stockcode\"]\n",
    "my_df_num = known[exclude_col]\n",
    "my_df_cat = known.drop(exclude_col, axis=1)\n",
    "#my_df_cat.to_csv(\"FIN.csv\")\n",
    "my_df_cat_ohe = pd.get_dummies(my_df_cat)\n",
    "my_df_ohe = pd.concat([my_df_num,my_df_cat_ohe], axis=1)\n",
    "my_df_ohe = my_df_ohe.fillna(0)\n",
    "my_df_ohe = my_df_ohe.replace(np.nan, 0)\n",
    "\n",
    "# Drop duplicates #TODO check whats better to keep\n",
    "my_df_ohe = my_df_ohe.loc[:,~my_df_ohe.columns.duplicated()]\n",
    "# Clean up names\n",
    "my_df_ohe.columns = [regex.sub(\"_\", col) if any(x in str(col) for x in set(('[', ']', '<'))) else col for col in my_df_ohe.columns.values]\n",
    "\n",
    "myst  = my_df_ohe[my_df_ohe.Stockcode.str.contains(\"MYSTERY\")]\n",
    "known  = my_df_ohe[~my_df_ohe.Stockcode.str.contains(\"MYSTERY\")]\n",
    "\n",
    "myst_nn = myst.drop(\"Stockcode\", axis=1)\n",
    "known_nn = known.drop(\"Stockcode\", axis=1)\n"
   ]
  },
  {
   "cell_type": "code",
   "execution_count": 30,
   "metadata": {},
   "outputs": [],
   "source": [
    "\n",
    "from sklearn.neighbors import NearestNeighbors\n",
    "# Create the k-NN model using k=5\n",
    "nn_abs = NearestNeighbors(n_neighbors=1, algorithm='auto')\n",
    "\n",
    "# Fit it\n",
    "nn_abs.fit(known_nn)\n",
    "\n",
    "#distance, matches = nn_abs.kneighbors(myst_nn.iloc[[9]], 2, return_distance=True)\n",
    "#matches\n",
    "\n",
    "#known[\"Stockcode\"].iloc[matches[0]]\n",
    "\n",
    "#myst['Stockcode'].iloc[[9]]\n",
    "#Now, tokenise each descition.\n",
    "#MAGIC TIME\n",
    "\n",
    "#myst.iloc[[9]].to_csv(\"myst.csv\")\n",
    "#myst_nn.iloc[[9]].to_csv(\"myst_nn.csv\")\n",
    "\n",
    "\n",
    "\n",
    "#known.iloc[matches[0]].to_csv(\"known.csv\")\n",
    "#known_nn.iloc[matches[0]].to_csv(\"known_nn.csv\")\n",
    "\n",
    "results_wine = []\n",
    "\n",
    "for index in range(len(myst.index)):\n",
    "    distance, matches = nn_abs.kneighbors(myst_nn.iloc[[index]], 1, return_distance=True)\n",
    "    results_wine.append(\n",
    "        {\n",
    "            'Mystery': \"https://www.danmurphys.com.au/product/\" + str(myst['Stockcode'].iloc[[index][0]]),\n",
    "            'Mystery Stockcode': str(myst['Stockcode'].iloc[[index][0]]),\n",
    "            'Matched': \"https://www.danmurphys.com.au/product/\" + str(known[\"Stockcode\"].iloc[matches[0][0]]),\n",
    "            'Matched Stockcode':  str(known[\"Stockcode\"].iloc[matches[0][0]]),\n",
    "            'Distance': str(distance[0][0])\n",
    "            \n",
    "        }\n",
    "    )\n",
    "\n",
    "\n",
    "matched = pd.DataFrame(results_wine)\n",
    "\n",
    "#def create_clickable_id(id):\n",
    "#    url_template= '''<a href=\"../../link/to/{id}\" target=\"_blank\">{id}</a>'''.format(id=id)\n",
    "#    return url_template\n",
    "\n",
    "#matched['Mystery'] = matched['Mystery'].apply(create_clickable_id)\n",
    "#matched['Matched'] = matched['Matched'].apply(create_clickable_id)\n",
    "\n",
    "#file_match = \"matched_results_\" + time.strftime(\"%Y%m%d\") + \".csv\"\n",
    "\n",
    "#matched.to_html(\"matched.html\")\n",
    "\n",
    "\n",
    "\n",
    "#matched.to_csv(\"matched_sun_1.csv\")\n",
    "\n",
    "#matches = nn_abs.kneighbors(myst_nn.iloc[[3]], 2, return_distance=False)\n",
    "#known[\"Stockcode\"].iloc[matches[0]]\n",
    "\n",
    "#myst['Stockcode'].iloc[[3]]\n",
    "\n",
    "\n"
   ]
  },
  {
   "cell_type": "code",
   "execution_count": 113,
   "metadata": {},
   "outputs": [],
   "source": [
    "#matched.to_csv(\"Sat_pm.csv\")"
   ]
  },
  {
   "cell_type": "code",
   "execution_count": 92,
   "metadata": {},
   "outputs": [],
   "source": [
    "#TODO Now just need to join back with the stockcode, and we've got a working MVP..\n",
    "promos = newdf[newdf.Stockcode.str.contains(\"MYSTERY\")][['Stockcode','webproductname','Prices.singleprice.Value','Prices.promoprice.Value']]\n",
    "cutdown = newdf[['Stockcode','Description','producttitle']]"
   ]
  },
  {
   "cell_type": "code",
   "execution_count": 93,
   "metadata": {},
   "outputs": [],
   "source": [
    "final = pd.merge(matched, promos, left_on='Mystery Stockcode', right_on='Stockcode')"
   ]
  },
  {
   "cell_type": "code",
   "execution_count": 94,
   "metadata": {},
   "outputs": [],
   "source": [
    "final = pd.merge(final, cutdown, left_on='Matched Stockcode', right_on='Stockcode')\n",
    "final = final[[\"Mystery\",\"Matched\",\"Distance\",\"webproductname\",\"Prices.singleprice.Value\",\"Prices.promoprice.Value\",\"Description\",\"producttitle\"]]"
   ]
  },
  {
   "cell_type": "code",
   "execution_count": 95,
   "metadata": {},
   "outputs": [],
   "source": [
    "final['Savings'] = final[\"Prices.singleprice.Value\"] - final[\"Prices.promoprice.Value\"]"
   ]
  },
  {
   "cell_type": "code",
   "execution_count": 96,
   "metadata": {},
   "outputs": [],
   "source": [
    "final[\"Match Level\"] = np.where(final['Distance'].astype(float) < 1.8, \"Good\", \"Poor\")\n",
    "final = final.sort_values(['Match Level', 'Savings'], ascending=[True, False])"
   ]
  },
  {
   "cell_type": "code",
   "execution_count": 100,
   "metadata": {},
   "outputs": [],
   "source": [
    "def make_clickable(val):\n",
    "    # target _blank to open new window\n",
    "    return '<a target=\"_blank\" href=\"{}\">{}</a>'.format(val, val)\n",
    "\n",
    "final = final.style.format({'Mystery': make_clickable,'Matched': make_clickable,})\\\n",
    "                   .bar(subset=['Savings'], align='mid', color=['#5fba7d'])\\\n",
    "                   .bar(subset=['Savings'], align='mid', color=['#5fba7d'])\\\n",
    "                   .hide_index()\\\n",
    "    \n",
    "        "
   ]
  },
  {
   "cell_type": "code",
   "execution_count": 86,
   "metadata": {},
   "outputs": [],
   "source": [
    "\n",
    "#final = final.style.format({'Mystery': make_clickable,'Matched': make_clickable,})\n",
    "#final = final.style.format({'Matched': make_clickable})"
   ]
  },
  {
   "cell_type": "code",
   "execution_count": 105,
   "metadata": {},
   "outputs": [],
   "source": [
    "#writing HTML Content\n",
    "heading = '<h1> Matched wines</h1>'\n",
    "subheading = '<h3> Results sub header </h3>'\n",
    "# Using .now() from datetime library to add Time stamp\n",
    "now = datetime.now()\n",
    "current_time = now.strftime(\"%m/%d/%Y %H:%M:%S\")\n",
    "header = '<div class=\"top\">' + heading + subheading +'</div>'\n",
    "footer = '<div class=\"bottom\"> <h3> This Report has been Generated on'+ current_time +'</h3> </div>'\n",
    "content = final\n",
    "# Concating everything to a single string"
   ]
  },
  {
   "cell_type": "code",
   "execution_count": 111,
   "metadata": {},
   "outputs": [],
   "source": [
    "html = header + content.render() + footer\n",
    "# Writing the file\n",
    "with open('report.html','w+') as file:\n",
    "    file.write(html)\n",
    "    #file.write(content)\n",
    "    #file.write(footer)"
   ]
  },
  {
   "cell_type": "code",
   "execution_count": null,
   "metadata": {},
   "outputs": [],
   "source": []
  },
  {
   "cell_type": "code",
   "execution_count": 101,
   "metadata": {},
   "outputs": [],
   "source": [
    "final_res = \"Matched_results_\" + time.strftime(\"%Y%m%d\") + \".html\"\n",
    "f=open(final_res,\"w\")\n",
    "f.write(final.render()) # df is the styled dataframe\n",
    "f.close()\n",
    "#final.to_html(final_res)"
   ]
  },
  {
   "cell_type": "code",
   "execution_count": null,
   "metadata": {},
   "outputs": [],
   "source": []
  },
  {
   "cell_type": "markdown",
   "metadata": {},
   "source": [
    "# Now to try and do the NLP Work!"
   ]
  },
  {
   "cell_type": "code",
   "execution_count": 36,
   "metadata": {},
   "outputs": [],
   "source": [
    "#Text to TFIDF\n",
    "#'webdescriptionshort',\n",
    "#'RichDescription',\n",
    "keep1 =['Stockcode',\n",
    " 'webdescriptionshort',\n",
    "'RichDescription']     \n",
    "#keep1 =[\n",
    "# 'webdescriptionshort',\n",
    "#'RichDescription','Review1_text','Review2_text']     \n"
   ]
  },
  {
   "cell_type": "code",
   "execution_count": 37,
   "metadata": {},
   "outputs": [],
   "source": [
    "kept = newdf[keep1]\n",
    "#kept.to_csv('fri_big_run_kept.csv')\n",
    "kept.reset_index(drop=True, inplace=True)"
   ]
  },
  {
   "cell_type": "code",
   "execution_count": null,
   "metadata": {},
   "outputs": [],
   "source": []
  },
  {
   "cell_type": "code",
   "execution_count": 29,
   "metadata": {},
   "outputs": [],
   "source": [
    "# Using http://mlbernauer.github.io/R/20160131-document-retrieval-sklearn.html"
   ]
  },
  {
   "cell_type": "code",
   "execution_count": 21,
   "metadata": {},
   "outputs": [],
   "source": [
    "## Adding in tfidf for description, and then dropping the columns\n",
    "\n",
    "from sklearn.feature_extraction.text import TfidfVectorizer\n",
    "\n",
    "#transformer = TfidfVectorizer(max_features=1000, stop_words='english')\n",
    "\n",
    "#v = TfidfVectorizer(ngram_range=(2, 3))\n",
    "#x = v.fit_transform(kept['RichDescription'].values.astype('U'))\n",
    "\n"
   ]
  },
  {
   "cell_type": "code",
   "execution_count": 60,
   "metadata": {},
   "outputs": [],
   "source": [
    "# Create vectorizer for webdescriptionshort, max_df is set to 0.5, we only want\n",
    "# to include terms that appear in less tha 50% of the documents (i.e. rare terms)\n",
    "web_tfidf_vectorizer = TfidfVectorizer(max_features=20000, use_idf=True,ngram_range=(1, 1))\n",
    "\n",
    "# Create vectorizer for , RichDescriptions max_df is set to 0.5, we only want \n",
    "# to include terms that appear in less than 50% of the documents (i.e. rare terms)\n",
    "rich_tfidf_vectorizer = TfidfVectorizer(max_features=20000, use_idf=True,ngram_range=(1, 1))"
   ]
  },
  {
   "cell_type": "code",
   "execution_count": 61,
   "metadata": {},
   "outputs": [],
   "source": [
    "# Fit Weights for both\n",
    "tfidf_weights_web = web_tfidf_vectorizer.fit_transform(kept['webdescriptionshort'].values.astype('U'))\n",
    "tfidf_weights_rich = rich_tfidf_vectorizer.fit_transform(kept['RichDescription'].values.astype('U'))\n"
   ]
  },
  {
   "cell_type": "code",
   "execution_count": 62,
   "metadata": {},
   "outputs": [],
   "source": [
    "# Get feature names for Abstract and Title models\n",
    "tfidf_features_web = web_tfidf_vectorizer.get_feature_names()\n",
    "tfidf_features_rich = rich_tfidf_vectorizer.get_feature_names()"
   ]
  },
  {
   "cell_type": "code",
   "execution_count": 63,
   "metadata": {},
   "outputs": [],
   "source": [
    "# Build model to return 5 closest neighbors\n",
    "from sklearn.neighbors import NearestNeighbors\n",
    "\n",
    "# Create the k-NN model using k=5\n",
    "nn_web = NearestNeighbors(n_neighbors=5, algorithm='auto')\n",
    "nn_rich = NearestNeighbors(n_neighbors=5, algorithm='auto')\n",
    "\n",
    "# Fit the models to the TF-IDF weights matrix\n",
    "nn_fitted_web = nn_web.fit(tfidf_weights_web)\n",
    "nn_fitted_rich = nn_rich.fit(tfidf_weights_rich)"
   ]
  },
  {
   "cell_type": "code",
   "execution_count": 64,
   "metadata": {},
   "outputs": [],
   "source": [
    "def find_nearest_papers(row, kNNmodel, tfidf_weights, tfidf_features, papers):\n",
    "    #keywords = get_top_features(row, tfidf_weights, tfidf_features)\n",
    "    dist,idx = kNNmodel.kneighbors(tfidf_weights[row,:])\n",
    "    idx = list(idx[0])\n",
    "    return {'Wines':kept.iloc[idx]}\n"
   ]
  },
  {
   "cell_type": "code",
   "execution_count": 65,
   "metadata": {},
   "outputs": [],
   "source": [
    "def get_top_features(rownum, weights, features, top_k=10):\n",
    "    weight_vec = weights.toarray()[rownum,:]\n",
    "    top_idx = np.argsort(weight_vec)[::-1][:top_k]\n",
    "    return [features[i] for i in top_idx]"
   ]
  },
  {
   "cell_type": "code",
   "execution_count": 69,
   "metadata": {},
   "outputs": [
    {
     "data": {
      "text/plain": [
       "Int64Index([1115], dtype='int64')"
      ]
     },
     "execution_count": 69,
     "metadata": {},
     "output_type": "execute_result"
    }
   ],
   "source": [
    "kept.index[kept['Stockcode'] == 'MYSTERY265']"
   ]
  },
  {
   "cell_type": "code",
   "execution_count": null,
   "metadata": {},
   "outputs": [],
   "source": [
    "#df.index[df['Stockcode'] == 'MYSTERY265']"
   ]
  },
  {
   "cell_type": "code",
   "execution_count": 70,
   "metadata": {},
   "outputs": [
    {
     "data": {
      "text/html": [
       "<div>\n",
       "<style scoped>\n",
       "    .dataframe tbody tr th:only-of-type {\n",
       "        vertical-align: middle;\n",
       "    }\n",
       "\n",
       "    .dataframe tbody tr th {\n",
       "        vertical-align: top;\n",
       "    }\n",
       "\n",
       "    .dataframe thead th {\n",
       "        text-align: right;\n",
       "    }\n",
       "</style>\n",
       "<table border=\"1\" class=\"dataframe\">\n",
       "  <thead>\n",
       "    <tr style=\"text-align: right;\">\n",
       "      <th></th>\n",
       "      <th>Stockcode</th>\n",
       "      <th>webdescriptionshort</th>\n",
       "      <th>RichDescription</th>\n",
       "    </tr>\n",
       "  </thead>\n",
       "  <tbody>\n",
       "    <tr>\n",
       "      <th>1115</th>\n",
       "      <td>MYSTERY265</td>\n",
       "      <td>&lt;p&gt;The fruit for this iconic wine is handpicke...</td>\n",
       "      <td>NaN</td>\n",
       "    </tr>\n",
       "    <tr>\n",
       "      <th>3045</th>\n",
       "      <td>503063</td>\n",
       "      <td>&lt;p&gt;The fruit for this iconic wine is handpicke...</td>\n",
       "      <td>&lt;p&gt;The fruit for this iconic wine is handpicke...</td>\n",
       "    </tr>\n",
       "    <tr>\n",
       "      <th>1895</th>\n",
       "      <td>551372</td>\n",
       "      <td>&lt;p&gt;The fruit for this iconic wine is handpicke...</td>\n",
       "      <td>&lt;p&gt;The fruit for this iconic wine is handpicke...</td>\n",
       "    </tr>\n",
       "    <tr>\n",
       "      <th>3866</th>\n",
       "      <td>868188</td>\n",
       "      <td>....</td>\n",
       "      <td>....</td>\n",
       "    </tr>\n",
       "    <tr>\n",
       "      <th>173</th>\n",
       "      <td>89396</td>\n",
       "      <td>Crafted from grapes sourced from only the old ...</td>\n",
       "      <td>Crafted from grapes sourced from only the old ...</td>\n",
       "    </tr>\n",
       "  </tbody>\n",
       "</table>\n",
       "</div>"
      ],
      "text/plain": [
       "       Stockcode                                webdescriptionshort  \\\n",
       "1115  MYSTERY265  <p>The fruit for this iconic wine is handpicke...   \n",
       "3045      503063  <p>The fruit for this iconic wine is handpicke...   \n",
       "1895      551372  <p>The fruit for this iconic wine is handpicke...   \n",
       "3866      868188                                               ....   \n",
       "173        89396  Crafted from grapes sourced from only the old ...   \n",
       "\n",
       "                                        RichDescription  \n",
       "1115                                                NaN  \n",
       "3045  <p>The fruit for this iconic wine is handpicke...  \n",
       "1895  <p>The fruit for this iconic wine is handpicke...  \n",
       "3866                                               ....  \n",
       "173   Crafted from grapes sourced from only the old ...  "
      ]
     },
     "execution_count": 70,
     "metadata": {},
     "output_type": "execute_result"
    }
   ],
   "source": [
    "#find_nearest_papers(1, nn_fitted_abs, tfidf_weights_abs, tfidf_features_abs, papers)['papers']\n",
    "find_nearest_papers(1115, nn_fitted_web, tfidf_weights_web, tfidf_features_web, kept)['Wines']"
   ]
  },
  {
   "cell_type": "code",
   "execution_count": null,
   "metadata": {},
   "outputs": [],
   "source": [
    "\n",
    "#my_df_ohe.to_csv(\"OHE.csv\")\n",
    "#myst_nn = myst_nn.reset_index()\n",
    "#myst = myst.reset_index()\n",
    "\n",
    "#known_nn = known_nn.reset_index()\n",
    "#known = known.reset_index()\n",
    "\n",
    "##### Now myst\n",
    "#my_df_num_m = myst[exclude_col]\n",
    "#my_df_cat_m = myst.drop(exclude_col, axis=1)\n",
    "#my_df_cat.to_csv(\"FIN.csv\")\n",
    "#my_df_cat_ohe_m = pd.get_dummies(my_df_cat_m)\n",
    "#my_df_ohe_m = pd.concat([my_df_num_m,my_df_cat_ohe_m], axis=1)\n",
    "#my_df_ohe_m = my_df_ohe_m.drop(\"Stockcode\", axis=1)\n",
    "#my_df_ohe_m = my_df_ohe_m.fillna(0)\n",
    "#my_df_ohe_m = my_df_ohe_m.replace(np.nan, 0)\n",
    "\n",
    "\n",
    "from sklearn.neighbors import NearestNeighbors\n",
    "# Create the k-NN model using k=5\n",
    "nn_abs = NearestNeighbors(n_neighbors=5, algorithm='auto')\n",
    "\n",
    "\n",
    "# Checkif we've got NsNS\n",
    "\n",
    "#\n",
    "#wines_corr =  my_df_ohe_d.corr(method = \"pearson\")\n",
    "#\n",
    "nn_abs.fit(known_nn)\n",
    "\n",
    "distance, matches = nn_abs.kneighbors(myst_nn.iloc[[9]], 2, return_distance=True)\n",
    "#matches\n",
    "\n",
    "known[\"Stockcode\"].iloc[matches[0]]\n",
    "\n",
    "myst['Stockcode'].iloc[[9]]\n",
    "#Now, tokenise each descition.\n",
    "#MAGIC TIME\n",
    "\n",
    "myst.iloc[[9]].to_csv(\"myst.csv\")\n",
    "myst_nn.iloc[[9]].to_csv(\"myst_nn.csv\")\n",
    "\n",
    "\n",
    "\n",
    "known.iloc[matches[0]].to_csv(\"known.csv\")\n",
    "known_nn.iloc[matches[0]].to_csv(\"known_nn.csv\")\n",
    "\n",
    "results_wine = []\n",
    "\n",
    "for index in range(len(myst.index)):\n",
    "    distance, matches = nn_abs.kneighbors(myst_nn.iloc[[index]], 1, return_distance=True)\n",
    "    results_wine.append(\n",
    "        {\n",
    "            'Mystery': \"https://www.danmurphys.com.au/product/\" + str(myst['Stockcode'].iloc[[index][0]]),\n",
    "            'Matched': \"https://www.danmurphys.com.au/product/\" + str(known[\"Stockcode\"].iloc[matches[0][0]]),\n",
    "            'Distance': str(distance[0][0])\n",
    "        }\n",
    "    )\n",
    "\n",
    "\n",
    "matched = pd.DataFrame(results_wine)\n",
    "\n",
    "#def create_clickable_id(id):\n",
    "#    url_template= '''<a href=\"../../link/to/{id}\" target=\"_blank\">{id}</a>'''.format(id=id)\n",
    "#    return url_template\n",
    "\n",
    "#matched['Mystery'] = matched['Mystery'].apply(create_clickable_id)\n",
    "#matched['Matched'] = matched['Matched'].apply(create_clickable_id)\n",
    "\n",
    "matched.to_html(\"matched.html\")\n",
    "\n",
    "matched.to_csv(\"matched_sat_1.csv\")\n",
    "\n",
    "matches = nn_abs.kneighbors(myst_nn.iloc[[3]], 2, return_distance=False)\n",
    "known[\"Stockcode\"].iloc[matches[0]]\n",
    "\n",
    "myst['Stockcode'].iloc[[3]]\n",
    "\n",
    "\n",
    "\n",
    "\n",
    "https://www.danmurphys.com.au/product/DM_MYSTERY352/under-wraps-beechworth-sangiovese-2018\n",
    "\n",
    "https://www.danmurphys.com.au/product/7252\n",
    "\n",
    "\n",
    "## xgboost\n",
    "\n",
    "from numpy import loadtxt\n",
    "from xgboost import XGBClassifier\n",
    "from sklearn.model_selection import train_test_split\n",
    "from sklearn.metrics import accuracy_score\n",
    "\n",
    "X = known_nn\n",
    "Y = known['Stockcode']\n",
    "\n",
    "X_test = myst_nn\n",
    "Y_test = myst['Stockcode']\n",
    "\n",
    "# Dont need this if already cleaned ohe\n",
    "#X.columns = [regex.sub(\"_\", col) if any(x in str(col) for x in set(('[', ']', '<'))) else col for col in X.columns.values]\n",
    "\n",
    "\n",
    "#\n",
    "seed = 7\n",
    "test_size = 0.33\n",
    "X_train, X_test, y_train, y_test = train_test_split(X, Y, test_size=test_size, random_state=seed)\n",
    "\n",
    "\n",
    "# fit model no training data\n",
    "model = XGBClassifier(verbosity=2)\n",
    "model.fit(X, Y)\n",
    "\n",
    "# Check it out now\n",
    "print(model)\n",
    "\n",
    "\n",
    "### NB\n",
    "from sklearn.naive_bayes import GaussianNB\n",
    "clf = GaussianNB()\n",
    "clf.fit(X, Y)\n",
    "GaussianNB(priors=None)\n",
    "y_pred = clf.predict(X_test_std)\n",
    "## Now to predict\n",
    "\n",
    "y_pred = clf.predict(X_test)\n",
    "#y_pred holds the predicted label of your test set.\n",
    "## Finally time to see the accuracy of our estimator.\n",
    "\n",
    "from sklearn.metrics import accuracy_score\n",
    "accuracy_score(y_true=y_test, y_pred=y_pred)\n",
    "\n",
    "pd.DataFrame(y_pred).to_csv(\"Pred_NB.CSV\")\n",
    "\n",
    "pd.DataFrame(Y_test).to_csv(\"Myst_NB.CSV\")Ansd t"
   ]
  }
 ],
 "metadata": {
  "kernelspec": {
   "display_name": "Python 3",
   "language": "python",
   "name": "python3"
  },
  "language_info": {
   "codemirror_mode": {
    "name": "ipython",
    "version": 3
   },
   "file_extension": ".py",
   "mimetype": "text/x-python",
   "name": "python",
   "nbconvert_exporter": "python",
   "pygments_lexer": "ipython3",
   "version": "3.7.6"
  }
 },
 "nbformat": 4,
 "nbformat_minor": 4
}
