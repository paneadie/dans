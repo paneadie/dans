{
 "cells": [
  {
   "cell_type": "markdown",
   "metadata": {
    "id": "vfkI7YPW5hVZ"
   },
   "source": [
    "#### Super Fast Fuzzy matching - step by step\r\n",
    "\r\n",
    "The data for this script can be found below\r\n",
    "Messy data:\r\n",
    "https://drive.google.com/file/d/1EAXvkiik5EO8FcpEwfX3muQEm6cqPGrQ/view?usp=sharing\r\n",
    "\r\n",
    "Clean data:\r\n",
    "https://drive.google.com/file/d/1yZ9IydHuZZCQUZadtI2NdvXTQTRA0b_z/view?usp=sharing"
   ]
  },
  {
   "cell_type": "code",
   "execution_count": null,
   "metadata": {
    "id": "_fO-gI8zsJr5"
   },
   "outputs": [],
   "source": [
    "## load libraries and set-up:\r\n",
    "import pandas as pd\r\n",
    "pd.set_option('display.max_colwidth', -1)\r\n",
    "from tqdm import tqdm\r\n",
    "from google.colab import drive\r\n",
    "import os\r\n",
    "#if using google drive\r\n",
    "# drive.mount('/content/drive')\r\n",
    "# os.chdir('path goes here if you are using gdrive...')"
   ]
  },
  {
   "cell_type": "markdown",
   "metadata": {
    "id": "wxu7RVDs5jsz"
   },
   "source": [
    "The below script creates a cleaning function and turns both the master data (the 'clean' data) and the items to be matched against into vectors for matching.\n",
    "- input1 This is our 'clean' list of company names\n",
    "- input2 This is the messy raw data that we want to join to the clean list\n",
    "- output1 tf_idf_matrix produced from clean data\n",
    "- output2 messy_tf_idf_matrix produced from the raw data"
   ]
  },
  {
   "cell_type": "code",
   "execution_count": null,
   "metadata": {
    "colab": {
     "base_uri": "https://localhost:8080/"
    },
    "executionInfo": {
     "elapsed": 4028,
     "status": "ok",
     "timestamp": 1607969058573,
     "user": {
      "displayName": "Josh Taylor",
      "photoUrl": "",
      "userId": "02015238424557196162"
     },
     "user_tz": 0
    },
    "id": "_LrU12pF4YYJ",
    "outputId": "afe4ca3e-40dd-4d0b-c443-43bdd51f0462"
   },
   "outputs": [
    {
     "name": "stdout",
     "output_type": "stream",
     "text": [
      "Requirement already satisfied: ftfy in /usr/local/lib/python3.6/dist-packages (5.8)\n",
      "Requirement already satisfied: wcwidth in /usr/local/lib/python3.6/dist-packages (from ftfy) (0.2.5)\n",
      "All 3-grams in \"Department\":\n",
      "[' De', 'Dep', 'epa', 'par', 'art', 'rtm', 'tme', 'men', 'ent', 'nt ', 't A', ' An', 'And', 'nd,', 'd, ', ', L', ' Lt', 'Ltd', 'td ']\n"
     ]
    },
    {
     "name": "stderr",
     "output_type": "stream",
     "text": [
      "/usr/local/lib/python3.6/dist-packages/IPython/core/interactiveshell.py:2718: DtypeWarning: Columns (6,7,8,9,10,11,12,13,14,15,16,17,18,19,20,21,22,23,24,25,26,27,28,29,30,31,32,33,34,35,36,37,38,39,40,41,42,43,44,45,46,47,48,49,50,51,52,53,54,55,56,57,58,59,60,61,62,63,64,65,66,67,68,69,70,71,72,73,74,75,76,77,78,79,80,81,82,83,84,85,86,87,88,89,90,91,92,93,94,95,96,97,98,99,100,101,102,103,104,105,106,107,108,109,110,111,112,113,114,115,116,117,118,119,120,121,122,123,124,125,126,127,128,129,130,131,132,133,134,135,136,137,138,139,140,141,142,143,144,145,146,147,148,149,150,151,152,153,154,155,156,157,158,159,160,161,162,163,164,165,166,167,168,169,170,171,172,173,174,175,176,177,178,179,180,181,182,183,184,185,186,187,188,189,190,191,192,193,194,195,196,197,198,199,200,201,202,203,204,205,206,207,208,209,210,211,212,213,214,215,216,217,218,219,220,221,222,223,224,225,226,227,228,229,230,231,232,233,234,235,236,237,238,239,240,241,242,243,244,245,246,247,248,249,250,251,252,253,254,255) have mixed types.Specify dtype option on import or set low_memory=False.\n",
      "  interactivity=interactivity, compiler=compiler, result=result)\n"
     ]
    },
    {
     "name": "stdout",
     "output_type": "stream",
     "text": [
      "Time: 0.39107203483581543\n",
      "(3047, 4694)\n"
     ]
    }
   ],
   "source": [
    "import pandas as pd\n",
    "import numpy as np\n",
    "import os\n",
    "import pickle #optional - for saving outputs\n",
    "import re\n",
    "from tqdm import tqdm # used for progress bars (optional)\n",
    "!pip install ftfy #  text cleaning for decode issues..\n",
    "import time\n",
    "\n",
    "\n",
    "import re\n",
    "\n",
    "from ftfy import fix_text\n",
    "#transforms company names with assumptions taken from: http://www.legislation.gov.uk/uksi/2015/17/regulation/2/made\n",
    "def ngrams(string, n=3):\n",
    "    \"\"\"Takes an input string, cleans it and converts to ngrams. \n",
    "    This script is focussed on cleaning UK company names but can be made generic by removing lines below\"\"\"\n",
    "    string = str(string)\n",
    "    string = string.lower() # lower case\n",
    "    string = fix_text(string) # fix text\n",
    "    string = string.split('t/a')[0] # split on 'trading as' and return first name only\n",
    "    string = string.split('trading as')[0] # split on 'trading as' and return first name only\n",
    "    string = string.encode(\"ascii\", errors=\"ignore\").decode() #remove non ascii chars\n",
    "    chars_to_remove = [\")\",\"(\",\".\",\"|\",\"[\",\"]\",\"{\",\"}\",\"'\",\"-\"]\n",
    "    rx = '[' + re.escape(''.join(chars_to_remove)) + ']' #remove punc, brackets etc...\n",
    "    string = re.sub(rx, '', string)\n",
    "    string = string.replace('&', 'and')\n",
    "    string = string.replace('limited', 'ltd')\n",
    "    string = string.replace('public limited company', 'plc')\n",
    "    string = string.replace('united kingdom', 'uk')\n",
    "    string = string.replace('community interest company', 'cic')\n",
    "    string = string.title() # normalise case - capital at start of each word\n",
    "    string = re.sub(' +',' ',string).strip() # get rid of multiple spaces and replace with a single\n",
    "    string = ' '+ string +' ' # pad names for ngrams...\n",
    "    ngrams = zip(*[string[i:] for i in range(n)])\n",
    "    return [''.join(ngram) for ngram in ngrams]\n",
    "\n",
    "print('All 3-grams in \"Department\":')\n",
    "print(ngrams('Depar-tment &, Ltd'))\n",
    "\n",
    "input1_csv = 'Gov Orgs ONS.csv'\n",
    "input1_column = 'Institutions'\n",
    "input2_csv = 'messy org names.csv'\n",
    "input2_column = 'buyer'\n",
    "\n",
    "###FIRST TIME RUN - takes about 5 minutes... used to build the matching table\n",
    "from sklearn.feature_extraction.text import TfidfVectorizer\n",
    "import time\n",
    "t1 = time.time() # used for timing - can delete\n",
    "df = pd.read_csv(input1_csv)#this is the clean org data bulk csv\n",
    "##### Create a list of items to match here:\n",
    "org_names = list(df[input1_column].unique()) #unique org names from company watch file\n",
    "#Building the TFIDF off the clean dataset - takes about 5 min\n",
    "vectorizer = TfidfVectorizer(min_df=1, analyzer=ngrams)\n",
    "tf_idf_matrix = vectorizer.fit_transform(org_names)\n",
    "t = time.time()-t1\n",
    "print(\"Time:\", t) # used for timing - can delete\n",
    "print(tf_idf_matrix.shape)\n",
    "\n",
    "### FOR SAVING ONLY - optional\n",
    "# pickle.dump(vectorizer, open(\"Data/vectorizer.pkl\", \"wb\"))\n",
    "# pickle.dump(tf_idf_matrix, open(\"Data/Comp_tfidf.pkl\", \"wb\"))\n",
    "# pickle.dump(org_names, open(\"Data/Comp_names.pkl\", \"wb\"))\n",
    "\n",
    "\n",
    "\n",
    "import time\n",
    "t1 = time.time()\n",
    "##### Create a list of messy items to match here:\n",
    "df_CF = pd.read_csv(input2_csv) # file containing messy supplier names to match against\n",
    "messy_names = list(df_CF[input2_column].unique()) #unique list of names\n",
    "\n",
    "#Creation of vectors for the messy names\n",
    "\n",
    "# #FOR LOADING ONLY - only required if items have been saved previously\n",
    "# vectorizer = pickle.load(open(\"Data/vectorizer.pkl\",\"rb\"))\n",
    "# tf_idf_matrix = pickle.load(open(\"Data/Comp_tfidf.pkl\",\"rb\"))\n",
    "# org_names = pickle.load(open(\"Data/Comp_names.pkl\",\"rb\"))\n",
    "\n",
    "messy_tf_idf_matrix = vectorizer.transform(messy_names)"
   ]
  },
  {
   "cell_type": "markdown",
   "metadata": {
    "id": "et_jNV_m5tp8"
   },
   "source": [
    "Matching\n",
    "\n",
    "This script takes the two sets of vectors and matches them to each other.\n",
    "It uses the NMSLIB library  https://github.com/nmslib/nmslib as this is the fastest python library avaliable for this matching\n",
    "- Input1 - 'tf_idf_matrix' created from scripts above from the Company Watch bulk data\n",
    "- Input2 - 'messy_tf_idf_matrix' created from the scripts above (from the data set to match against. eg Contracts Finder)\n",
    "- Output - 'nbrs' which contains the index matches across the two inputs alongside a confidence score (lower is better)"
   ]
  },
  {
   "cell_type": "code",
   "execution_count": null,
   "metadata": {
    "id": "fhAiozZ65-66"
   },
   "outputs": [],
   "source": [
    "!pip install nmslib\n",
    "import nmslib\n",
    "from scipy.sparse import csr_matrix # may not be required \n",
    "from scipy.sparse import rand # may not be required\n",
    "\n",
    "\n",
    "# create a random matrix to index\n",
    "data_matrix = tf_idf_matrix#[0:1000000]\n",
    "\n",
    "# Set index parameters\n",
    "# These are the most important ones\n",
    "M = 80\n",
    "efC = 1000\n",
    "\n",
    "num_threads = 4 # adjust for the number of threads\n",
    "# Intitialize the library, specify the space, the type of the vector and add data points \n",
    "index = nmslib.init(method='simple_invindx', space='negdotprod_sparse_fast', data_type=nmslib.DataType.SPARSE_VECTOR) \n",
    "\n",
    "index.addDataPointBatch(data_matrix)\n",
    "# Create an index\n",
    "start = time.time()\n",
    "index.createIndex() \n",
    "end = time.time() \n",
    "print('Indexing time = %f' % (end-start))"
   ]
  },
  {
   "cell_type": "code",
   "execution_count": null,
   "metadata": {
    "colab": {
     "base_uri": "https://localhost:8080/"
    },
    "executionInfo": {
     "elapsed": 1135,
     "status": "ok",
     "timestamp": 1607968408828,
     "user": {
      "displayName": "Josh Taylor",
      "photoUrl": "",
      "userId": "02015238424557196162"
     },
     "user_tz": 0
    },
    "id": "TjZBTaVb6WFS",
    "outputId": "76d29895-5ed7-49a9-fb06-7ed7a87b9582"
   },
   "outputs": [
    {
     "name": "stdout",
     "output_type": "stream",
     "text": [
      "kNN time total=0.399585 (sec), per query=0.000109 (sec), per query adjusted for thread number=0.000438 (sec)\n"
     ]
    }
   ],
   "source": [
    "# Number of neighbors \n",
    "num_threads = 4\n",
    "K=1\n",
    "query_matrix = messy_tf_idf_matrix\n",
    "start = time.time() \n",
    "query_qty = query_matrix.shape[0]\n",
    "nbrs = index.knnQueryBatch(query_matrix, k = K, num_threads = num_threads)\n",
    "end = time.time() \n",
    "print('kNN time total=%f (sec), per query=%f (sec), per query adjusted for thread number=%f (sec)' % \n",
    "      (end-start, float(end-start)/query_qty, num_threads*float(end-start)/query_qty))"
   ]
  },
  {
   "cell_type": "markdown",
   "metadata": {
    "id": "6KwyvpYq6mtx"
   },
   "source": [
    "Example script for joining matches back to the data set"
   ]
  },
  {
   "cell_type": "code",
   "execution_count": null,
   "metadata": {
    "colab": {
     "base_uri": "https://localhost:8080/",
     "height": 282
    },
    "executionInfo": {
     "elapsed": 771,
     "status": "ok",
     "timestamp": 1607968855519,
     "user": {
      "displayName": "Josh Taylor",
      "photoUrl": "",
      "userId": "02015238424557196162"
     },
     "user_tz": 0
    },
    "id": "EKd4Xsyn6p0t",
    "outputId": "ee5a2683-8480-4c5f-af46-c694f096b29e"
   },
   "outputs": [
    {
     "data": {
      "text/plain": [
       "<matplotlib.axes._subplots.AxesSubplot at 0x7f123a911630>"
      ]
     },
     "execution_count": 31,
     "metadata": {
      "tags": []
     },
     "output_type": "execute_result"
    },
    {
     "data": {
      "image/png": "[encoded data removed]",
      "text/plain": [
       "<Figure size 432x288 with 1 Axes>"
      ]
     },
     "metadata": {
      "needs_background": "light",
      "tags": []
     },
     "output_type": "display_data"
    }
   ],
   "source": [
    "mts =[]\n",
    "for i in range(len(nbrs)):\n",
    "  origional_nm = messy_names[i]\n",
    "  try:\n",
    "    matched_nm   = org_names[nbrs[i][0][0]]\n",
    "    conf         = nbrs[i][1][0]\n",
    "  except:\n",
    "    matched_nm   = \"no match found\"\n",
    "    conf         = None\n",
    "  mts.append([origional_nm,matched_nm,conf])\n",
    "\n",
    "mts = pd.DataFrame(mts,columns=['origional_name','matched_name','conf'])\n",
    "results = df_CF.merge(mts,left_on='buyer',right_on='origional_name')\n",
    "\n",
    "results.conf.hist()\n",
    "#Profile of matches - lower is higher confidence"
   ]
  },
  {
   "cell_type": "code",
   "execution_count": null,
   "metadata": {
    "id": "DYgqF6q9YzFw"
   },
   "outputs": [],
   "source": [
    "\n",
    "\n"
   ]
  },
  {
   "cell_type": "code",
   "execution_count": null,
   "metadata": {},
   "outputs": [],
   "source": [
    "https://colab.research.google.com/drive/10ZrZaLBmhEqKSSEoe_cos783m2junUdr?usp=sharing#scrollTo=Bdqu_tJFBD_c"
   ]
  },
  {
   "cell_type": "code",
   "execution_count": null,
   "metadata": {},
   "outputs": [],
   "source": []
  },
  {
   "cell_type": "code",
   "execution_count": null,
   "metadata": {},
   "outputs": [],
   "source": []
  },
  {
   "cell_type": "code",
   "execution_count": null,
   "metadata": {},
   "outputs": [],
   "source": []
  },
  {
   "cell_type": "markdown",
   "metadata": {},
   "source": [
    "# New Fuzzy"
   ]
  },
  {
   "cell_type": "code",
   "execution_count": 1,
   "metadata": {},
   "outputs": [],
   "source": []
  },
  {
   "cell_type": "code",
   "execution_count": 2,
   "metadata": {},
   "outputs": [],
   "source": [
    "from fuzzywuzzy import fuzz\n",
    "from fuzzywuzzy import process"
   ]
  },
  {
   "cell_type": "code",
   "execution_count": null,
   "metadata": {},
   "outputs": [],
   "source": [
    "fuzzy_merge(df1, df2, 'Key', 'Key', threshold=80)\n"
   ]
  },
  {
   "cell_type": "code",
   "execution_count": 3,
   "metadata": {},
   "outputs": [
    {
     "ename": "NameError",
     "evalue": "name 'wide' is not defined",
     "output_type": "error",
     "traceback": [
      "\u001b[0;31m---------------------------------------------------------------------------\u001b[0m",
      "\u001b[0;31mNameError\u001b[0m                                 Traceback (most recent call last)",
      "\u001b[0;32m<ipython-input-3-e701552b11bb>\u001b[0m in \u001b[0;36m<module>\u001b[0;34m\u001b[0m\n\u001b[0;32m----> 1\u001b[0;31m \u001b[0mwide\u001b[0m\u001b[0;34m\u001b[0m\u001b[0;34m\u001b[0m\u001b[0m\n\u001b[0m",
      "\u001b[0;31mNameError\u001b[0m: name 'wide' is not defined"
     ]
    }
   ],
   "source": []
  },
  {
   "cell_type": "code",
   "execution_count": null,
   "metadata": {},
   "outputs": [],
   "source": []
  }
 ],
 "metadata": {
  "colab": {
   "collapsed_sections": [],
   "name": "Fuzzy_matching_update.ipynb",
   "provenance": []
  },
  "kernelspec": {
   "display_name": "Python 3",
   "language": "python",
   "name": "python3"
  },
  "language_info": {
   "codemirror_mode": {
    "name": "ipython",
    "version": 3
   },
   "file_extension": ".py",
   "mimetype": "text/x-python",
   "name": "python",
   "nbconvert_exporter": "python",
   "pygments_lexer": "ipython3",
   "version": "3.7.6"
  }
 },
 "nbformat": 4,
 "nbformat_minor": 4
}
