{
 "cells": [
  {
   "cell_type": "code",
   "execution_count": 20,
   "metadata": {},
   "outputs": [],
   "source": [
    "\n",
    "#Tute: https://colab.research.google.com/drive/10ZrZaLBmhEqKSSEoe_cos783m2junUdr?usp=sharing#scrollTo=Bdqu_tJFBD_c\n",
    "    \n",
    "import os\n",
    "import pandas as pd\n",
    "import numpy as np\n",
    "import pickle\n",
    "import spacy\n",
    "from tqdm import tqdm\n",
    "import matplotlib.pyplot as plt\n",
    "import ftfy\n",
    "from gensim.models.fasttext import FastText\n",
    "#!pip install rank_bm25 --quiet #install BM25\n",
    "#!pip install --no-binary :all: nmslib #install nmslib\n",
    "from rank_bm25 import BM25Okapi\n",
    "import nmslib\n",
    "import time\n",
    "#spacy.util.set_data_path('/Users/stuartvandegiessen/opt/anaconda3/envs/invest/lib/python3.8/site-packages')\n",
    "import en_core_web_sm\n"
   ]
  },
  {
   "cell_type": "code",
   "execution_count": 44,
   "metadata": {},
   "outputs": [],
   "source": [
    "import copy\n",
    "def load_n_explode(file_res=\"API_results_\" + time.strftime(\"%Y%m%d\") + \".csv\"):\n",
    "    # file_res = \"API_results_20210823.csv\"\n",
    "    my_df = pd.read_csv(file_res,error_bad_lines=False)\n",
    "\n",
    "    ## Categories\n",
    "    # my_df[\"Categories\"]\n",
    "    # Willnjust keep 2 levels.\n",
    "    my_df[\"Categories\"] = my_df[\"Categories\"].map(eval, na_action='ignore')\n",
    "    new_df = my_df[\"Categories\"].apply(pd.Series)\n",
    "    my_df[\"Categories\"] = new_df[0].apply(pd.Series).UrlFriendlyName\n",
    "    my_df[\"Sub_Categories\"] = new_df[1].apply(pd.Series).UrlFriendlyName\n",
    "\n",
    "    ###********NEW> LIMIT TO WINES ONLY\n",
    "    my_df = my_df[my_df['Categories'].isin(['red-wine', 'white-wine'])]\n",
    "    \n",
    "    ## Reviews\n",
    "    my_df[\"Reviews\"] = my_df[\"Reviews\"].map(eval, na_action='ignore')\n",
    "    # Try with first 2 reviews\n",
    "    new_df = my_df[\"Reviews\"].apply(pd.Series)\n",
    "    # First\n",
    "    my_df[\"Review1_auth\"] = new_df[0].apply(pd.Series).author.apply(pd.Series).Value\n",
    "    my_df[\"Review1_authorcontent\"] = new_df[0].apply(pd.Series).authorcontent.apply(pd.Series).Value\n",
    "    my_df[\"Review1_points\"] = new_df[0].apply(pd.Series).points.apply(pd.Series).Value\n",
    "    my_df[\"Review1_source\"] = new_df[0].apply(pd.Series).source.apply(pd.Series).Value\n",
    "    my_df[\"Review1_text\"] = new_df[0].apply(pd.Series).text.apply(pd.Series).Value\n",
    "    my_df[\"Review1_vintage\"] = new_df[0].apply(pd.Series).vintage.apply(pd.Series).Value\n",
    "    # Second\n",
    "    my_df[\"Review2_auth\"] = new_df[1].apply(pd.Series).author.apply(pd.Series).Value\n",
    "    my_df[\"Review2_authorcontent\"] = new_df[1].apply(pd.Series).authorcontent.apply(pd.Series).Value\n",
    "    my_df[\"Review2_points\"] = new_df[1].apply(pd.Series).points.apply(pd.Series).Value\n",
    "    my_df[\"Review2_source\"] = new_df[1].apply(pd.Series).source.apply(pd.Series).Value\n",
    "    my_df[\"Review2_text\"] = new_df[1].apply(pd.Series).text.apply(pd.Series).Value\n",
    "    my_df[\"Review2_vintage\"] = new_df[1].apply(pd.Series).vintage.apply(pd.Series).Value\n",
    "\n",
    "    # Illl make a deep copy for later\n",
    "    full_df = copy.deepcopy(my_df)\n",
    "    # full_df = full_df\n",
    "\n",
    "    # Additional details\n",
    "    my_df[\"AdditionalDetails\"] = my_df[\"AdditionalDetails\"].map(eval, na_action='ignore')\n",
    "    # Can't use nested lists of JSON objects in pd.json_normalize\n",
    "    my_df = my_df.explode(column=\"AdditionalDetails\").reset_index(drop=True)\n",
    "\n",
    "    # Hacky, but it works... so we wont be touching this stuff!\n",
    "    add_df = pd.DataFrame(pd.json_normalize(my_df[\"AdditionalDetails\"]))\n",
    "    del add_df[\"DisplayName\"]\n",
    "    df = pd.concat([my_df, add_df], axis=1)\n",
    "    df = df.pivot(index='Stockcode', columns='Name', values='Value').reset_index().drop_duplicates(subset=['Stockcode'],\n",
    "                                                                                                   keep=False)\n",
    "\n",
    "    # Check point, and also a way to get rid of headers\n",
    "    newdf = pd.merge(full_df, df, on='Stockcode')\n",
    "    newdf[\"Mystery\"] = newdf[\"Description\"].str.contains(\"Wraps\")\n",
    "    # This is an old secret seleciton one. Only two, so will drop them\n",
    "    newdf = newdf[~newdf[\"Description\"].str.contains(\"Secret Selection\")]\n",
    "    newdf = newdf[~newdf[\"Stockcode\"].str.contains(\"672366\")]\n",
    "    # newdf = newdf.drop_duplicates(subset=['Stockcode'], keep=False)\n",
    "    return newdf\n",
    "\n"
   ]
  },
  {
   "cell_type": "markdown",
   "metadata": {},
   "source": [
    "## Load our data"
   ]
  },
  {
   "cell_type": "code",
   "execution_count": 45,
   "metadata": {},
   "outputs": [
    {
     "name": "stderr",
     "output_type": "stream",
     "text": [
      "/home/stu/anaconda3/lib/python3.7/site-packages/IPython/core/interactiveshell.py:3063: DtypeWarning: Columns (101,106) have mixed types.Specify dtype option on import or set low_memory=False.\n",
      "  interactivity=interactivity, compiler=compiler, result=result)\n"
     ]
    }
   ],
   "source": [
    " my_df = pd.read_csv(\"API_results_20210903.csv\")"
   ]
  },
  {
   "cell_type": "code",
   "execution_count": 47,
   "metadata": {},
   "outputs": [
    {
     "name": "stderr",
     "output_type": "stream",
     "text": [
      "/home/stu/anaconda3/lib/python3.7/site-packages/IPython/core/interactiveshell.py:3254: DtypeWarning: Columns (101,106) have mixed types.Specify dtype option on import or set low_memory=False.\n",
      "  if (await self.run_code(code, result,  async_=asy)):\n"
     ]
    }
   ],
   "source": [
    "\n",
    "wide = load_n_explode(\"API_results_20210903.csv\")"
   ]
  },
  {
   "cell_type": "code",
   "execution_count": 91,
   "metadata": {},
   "outputs": [
    {
     "data": {
      "text/plain": [
       "17228    False\n",
       "Name: webproductname, dtype: bool"
      ]
     },
     "execution_count": 91,
     "metadata": {},
     "output_type": "execute_result"
    }
   ],
   "source": [
    "wide[wide[\"Stockcode\"] == \"ER_1000004375_CALSG16\"][\"webproductname\"].notna()"
   ]
  },
  {
   "cell_type": "code",
   "execution_count": 92,
   "metadata": {},
   "outputs": [],
   "source": [
    "wide.to_csv(\"LATEST.csv\")"
   ]
  },
  {
   "cell_type": "markdown",
   "metadata": {},
   "source": [
    "#input_file = \"API_results_\" + time.strftime(\"%Y%m%d\") + \".csv\"\n",
    "input_file = \"API_results_20210830.csv\"\n",
    "wide = load_n_explode(input_file)"
   ]
  },
  {
   "cell_type": "code",
   "execution_count": 89,
   "metadata": {},
   "outputs": [],
   "source": [
    "\n",
    "def giveaway(df):\n",
    "    gives = df.copy(deep=True)\n",
    "    gives = gives[['Stockcode','Description','webproductname','Prices.singleprice.Value','Prices.promoprice.Value','Prices.promoprice.BeforePromotion','Prices.promoprice.AfterPromotion','IsForDelivery']]\n",
    "    gives = gives[gives.webproductname.notnull()]\n",
    "    gives = gives[gives.webproductname.notna()]\n",
    "    gives = gives[gives[\"Description\"].str.lower().str.contains(\"wraps\")]\n",
    "    gives = gives[~gives[\"webproductname\"].str.lower().str.contains(\"wraps\")]\n",
    "    gives = gives[gives[\"IsForDelivery\"]]\n",
    "    gives[\"METHOD\"] = \"giveaway\"\n",
    "    return gives"
   ]
  },
  {
   "cell_type": "code",
   "execution_count": 90,
   "metadata": {},
   "outputs": [
    {
     "data": {
      "text/html": [
       "<div>\n",
       "<style scoped>\n",
       "    .dataframe tbody tr th:only-of-type {\n",
       "        vertical-align: middle;\n",
       "    }\n",
       "\n",
       "    .dataframe tbody tr th {\n",
       "        vertical-align: top;\n",
       "    }\n",
       "\n",
       "    .dataframe thead th {\n",
       "        text-align: right;\n",
       "    }\n",
       "</style>\n",
       "<table border=\"1\" class=\"dataframe\">\n",
       "  <thead>\n",
       "    <tr style=\"text-align: right;\">\n",
       "      <th></th>\n",
       "      <th>Stockcode</th>\n",
       "      <th>Description</th>\n",
       "      <th>webproductname</th>\n",
       "      <th>Prices.singleprice.Value</th>\n",
       "      <th>Prices.promoprice.Value</th>\n",
       "      <th>Prices.promoprice.BeforePromotion</th>\n",
       "      <th>Prices.promoprice.AfterPromotion</th>\n",
       "      <th>IsForDelivery</th>\n",
       "      <th>METHOD</th>\n",
       "    </tr>\n",
       "  </thead>\n",
       "  <tbody>\n",
       "    <tr>\n",
       "      <th>5840</th>\n",
       "      <td>MYSTERY594</td>\n",
       "      <td>Under Wraps Heathcote Shiraz&lt;br&gt;Cabernet 2017...</td>\n",
       "      <td>Feathered Friends Heathcote Shiraz Cabernet 2015</td>\n",
       "      <td>25.00</td>\n",
       "      <td>89.0</td>\n",
       "      <td>150.00</td>\n",
       "      <td>89.0</td>\n",
       "      <td>True</td>\n",
       "      <td>giveaway</td>\n",
       "    </tr>\n",
       "    <tr>\n",
       "      <th>9314</th>\n",
       "      <td>MYSTERY424</td>\n",
       "      <td>Under Wraps Adelaide Hills&lt;br&gt;Pinot Noir 2017...</td>\n",
       "      <td>Riposte The Sabre Pinot Noir</td>\n",
       "      <td>29.99</td>\n",
       "      <td>16.9</td>\n",
       "      <td>29.99</td>\n",
       "      <td>16.9</td>\n",
       "      <td>True</td>\n",
       "      <td>giveaway</td>\n",
       "    </tr>\n",
       "    <tr>\n",
       "      <th>11627</th>\n",
       "      <td>MYSTERY437</td>\n",
       "      <td>Under Wraps Western&lt;br&gt;Australia Cabernet... ...</td>\n",
       "      <td>Alkoomi Blackbutt Cabernet Merlot Cabernet Franc</td>\n",
       "      <td>59.99</td>\n",
       "      <td>30.0</td>\n",
       "      <td>59.99</td>\n",
       "      <td>30.0</td>\n",
       "      <td>True</td>\n",
       "      <td>giveaway</td>\n",
       "    </tr>\n",
       "    <tr>\n",
       "      <th>12870</th>\n",
       "      <td>MYSTERY220</td>\n",
       "      <td>Under Wraps Barossa Valley&lt;br&gt;Shiraz 2016  750mL</td>\n",
       "      <td>Chris Ringland The Maker Edition Shiraz 2016</td>\n",
       "      <td>30.00</td>\n",
       "      <td>NaN</td>\n",
       "      <td>NaN</td>\n",
       "      <td>NaN</td>\n",
       "      <td>True</td>\n",
       "      <td>giveaway</td>\n",
       "    </tr>\n",
       "    <tr>\n",
       "      <th>14804</th>\n",
       "      <td>MYSTERY378</td>\n",
       "      <td>Under Wraps Western&lt;br&gt;Australia Cabernet... ...</td>\n",
       "      <td>Peos Estate Cab Sauv</td>\n",
       "      <td>22.99</td>\n",
       "      <td>15.0</td>\n",
       "      <td>22.99</td>\n",
       "      <td>15.0</td>\n",
       "      <td>True</td>\n",
       "      <td>giveaway</td>\n",
       "    </tr>\n",
       "    <tr>\n",
       "      <th>17193</th>\n",
       "      <td>MYSTERY459</td>\n",
       "      <td>Under Wraps Great Southern&lt;br&gt;Cabernet Sauvig...</td>\n",
       "      <td>Forest Hill Block 5 Caberent Sauvignon</td>\n",
       "      <td>30.00</td>\n",
       "      <td>NaN</td>\n",
       "      <td>NaN</td>\n",
       "      <td>NaN</td>\n",
       "      <td>True</td>\n",
       "      <td>giveaway</td>\n",
       "    </tr>\n",
       "    <tr>\n",
       "      <th>20089</th>\n",
       "      <td>MYSTERY540</td>\n",
       "      <td>Under Wraps Clare Valley&lt;br&gt;Cabernet Sauvigno...</td>\n",
       "      <td>Jim Barry The Benbournie Cabernet Sauvignon 2014</td>\n",
       "      <td>35.88</td>\n",
       "      <td>NaN</td>\n",
       "      <td>NaN</td>\n",
       "      <td>NaN</td>\n",
       "      <td>True</td>\n",
       "      <td>giveaway</td>\n",
       "    </tr>\n",
       "    <tr>\n",
       "      <th>20428</th>\n",
       "      <td>MYSTERY411</td>\n",
       "      <td>Under Wraps Hawkes Bay Syrah&lt;br&gt;2010  750mL</td>\n",
       "      <td>Craggy Range Le Sol Syrah 2010</td>\n",
       "      <td>155.99</td>\n",
       "      <td>79.9</td>\n",
       "      <td>155.99</td>\n",
       "      <td>79.9</td>\n",
       "      <td>True</td>\n",
       "      <td>giveaway</td>\n",
       "    </tr>\n",
       "    <tr>\n",
       "      <th>20665</th>\n",
       "      <td>MYSTERY242</td>\n",
       "      <td>Under Wraps Barossa Merlot&lt;br&gt;2017  750mL</td>\n",
       "      <td>Gibson My Darling Merlot 2014</td>\n",
       "      <td>24.99</td>\n",
       "      <td>14.9</td>\n",
       "      <td>24.99</td>\n",
       "      <td>14.9</td>\n",
       "      <td>True</td>\n",
       "      <td>giveaway</td>\n",
       "    </tr>\n",
       "    <tr>\n",
       "      <th>21016</th>\n",
       "      <td>MYSTERY196</td>\n",
       "      <td>Under Wraps Yarra Valley&lt;br&gt;Chardonnay 2018  ...</td>\n",
       "      <td>Yarra Trail Yarra Valley Chardonnay 2016</td>\n",
       "      <td>31.99</td>\n",
       "      <td>15.0</td>\n",
       "      <td>31.99</td>\n",
       "      <td>15.0</td>\n",
       "      <td>True</td>\n",
       "      <td>giveaway</td>\n",
       "    </tr>\n",
       "  </tbody>\n",
       "</table>\n",
       "</div>"
      ],
      "text/plain": [
       "        Stockcode                                        Description  \\\n",
       "5840   MYSTERY594   Under Wraps Heathcote Shiraz<br>Cabernet 2017...   \n",
       "9314   MYSTERY424   Under Wraps Adelaide Hills<br>Pinot Noir 2017...   \n",
       "11627  MYSTERY437   Under Wraps Western<br>Australia Cabernet... ...   \n",
       "12870  MYSTERY220   Under Wraps Barossa Valley<br>Shiraz 2016  750mL   \n",
       "14804  MYSTERY378   Under Wraps Western<br>Australia Cabernet... ...   \n",
       "17193  MYSTERY459   Under Wraps Great Southern<br>Cabernet Sauvig...   \n",
       "20089  MYSTERY540   Under Wraps Clare Valley<br>Cabernet Sauvigno...   \n",
       "20428  MYSTERY411        Under Wraps Hawkes Bay Syrah<br>2010  750mL   \n",
       "20665  MYSTERY242          Under Wraps Barossa Merlot<br>2017  750mL   \n",
       "21016  MYSTERY196   Under Wraps Yarra Valley<br>Chardonnay 2018  ...   \n",
       "\n",
       "                                         webproductname  \\\n",
       "5840   Feathered Friends Heathcote Shiraz Cabernet 2015   \n",
       "9314                       Riposte The Sabre Pinot Noir   \n",
       "11627  Alkoomi Blackbutt Cabernet Merlot Cabernet Franc   \n",
       "12870      Chris Ringland The Maker Edition Shiraz 2016   \n",
       "14804                              Peos Estate Cab Sauv   \n",
       "17193            Forest Hill Block 5 Caberent Sauvignon   \n",
       "20089  Jim Barry The Benbournie Cabernet Sauvignon 2014   \n",
       "20428                    Craggy Range Le Sol Syrah 2010   \n",
       "20665                     Gibson My Darling Merlot 2014   \n",
       "21016          Yarra Trail Yarra Valley Chardonnay 2016   \n",
       "\n",
       "       Prices.singleprice.Value  Prices.promoprice.Value  \\\n",
       "5840                      25.00                     89.0   \n",
       "9314                      29.99                     16.9   \n",
       "11627                     59.99                     30.0   \n",
       "12870                     30.00                      NaN   \n",
       "14804                     22.99                     15.0   \n",
       "17193                     30.00                      NaN   \n",
       "20089                     35.88                      NaN   \n",
       "20428                    155.99                     79.9   \n",
       "20665                     24.99                     14.9   \n",
       "21016                     31.99                     15.0   \n",
       "\n",
       "       Prices.promoprice.BeforePromotion  Prices.promoprice.AfterPromotion  \\\n",
       "5840                              150.00                              89.0   \n",
       "9314                               29.99                              16.9   \n",
       "11627                              59.99                              30.0   \n",
       "12870                                NaN                               NaN   \n",
       "14804                              22.99                              15.0   \n",
       "17193                                NaN                               NaN   \n",
       "20089                                NaN                               NaN   \n",
       "20428                             155.99                              79.9   \n",
       "20665                              24.99                              14.9   \n",
       "21016                              31.99                              15.0   \n",
       "\n",
       "       IsForDelivery    METHOD  \n",
       "5840            True  giveaway  \n",
       "9314            True  giveaway  \n",
       "11627           True  giveaway  \n",
       "12870           True  giveaway  \n",
       "14804           True  giveaway  \n",
       "17193           True  giveaway  \n",
       "20089           True  giveaway  \n",
       "20428           True  giveaway  \n",
       "20665           True  giveaway  \n",
       "21016           True  giveaway  "
      ]
     },
     "execution_count": 90,
     "metadata": {},
     "output_type": "execute_result"
    }
   ],
   "source": [
    "giveaway(wide)"
   ]
  },
  {
   "cell_type": "code",
   "execution_count": 93,
   "metadata": {},
   "outputs": [],
   "source": [
    "df1 = wide[wide[\"Mystery\"]]\n",
    "df2 = wide[~wide[\"Mystery\"]]"
   ]
  },
  {
   "cell_type": "code",
   "execution_count": 159,
   "metadata": {},
   "outputs": [
    {
     "data": {
      "text/html": [
       "<div>\n",
       "<style scoped>\n",
       "    .dataframe tbody tr th:only-of-type {\n",
       "        vertical-align: middle;\n",
       "    }\n",
       "\n",
       "    .dataframe tbody tr th {\n",
       "        vertical-align: top;\n",
       "    }\n",
       "\n",
       "    .dataframe thead th {\n",
       "        text-align: right;\n",
       "    }\n",
       "</style>\n",
       "<table border=\"1\" class=\"dataframe\">\n",
       "  <thead>\n",
       "    <tr style=\"text-align: right;\">\n",
       "      <th></th>\n",
       "      <th>Unnamed: 0</th>\n",
       "      <th>RecommendedProducts</th>\n",
       "      <th>ProductsInSameOffer</th>\n",
       "      <th>Categories</th>\n",
       "      <th>BackorderMessage</th>\n",
       "      <th>Reviews</th>\n",
       "      <th>DeliveryOptionsInfo</th>\n",
       "      <th>SavedLists</th>\n",
       "      <th>Stockcode</th>\n",
       "      <th>Description</th>\n",
       "      <th>...</th>\n",
       "      <th>webstateoforigin</th>\n",
       "      <th>webtitle</th>\n",
       "      <th>webtotalreviewcount</th>\n",
       "      <th>webvideourl</th>\n",
       "      <th>webvintagecurrent</th>\n",
       "      <th>webvintagenote</th>\n",
       "      <th>webwinebody</th>\n",
       "      <th>webwinemaker</th>\n",
       "      <th>webwinestyle</th>\n",
       "      <th>Mystery</th>\n",
       "    </tr>\n",
       "  </thead>\n",
       "  <tbody>\n",
       "    <tr>\n",
       "      <th>0</th>\n",
       "      <td>0</td>\n",
       "      <td>NaN</td>\n",
       "      <td>NaN</td>\n",
       "      <td>red-wine</td>\n",
       "      <td>Limited stock</td>\n",
       "      <td>NaN</td>\n",
       "      <td>NaN</td>\n",
       "      <td>NaN</td>\n",
       "      <td>133780</td>\n",
       "      <td>Dalwhinnie Moonambel&lt;br&gt;Cabernet Sauvignon......</td>\n",
       "      <td>...</td>\n",
       "      <td>Victoria</td>\n",
       "      <td>Moonambel Cabernet Sauvignon</td>\n",
       "      <td>NaN</td>\n",
       "      <td>NaN</td>\n",
       "      <td>2016*</td>\n",
       "      <td>* Vintages may vary from store to store and wh...</td>\n",
       "      <td>Full Bodied</td>\n",
       "      <td>NaN</td>\n",
       "      <td>Dry</td>\n",
       "      <td>False</td>\n",
       "    </tr>\n",
       "    <tr>\n",
       "      <th>1</th>\n",
       "      <td>0</td>\n",
       "      <td>NaN</td>\n",
       "      <td>NaN</td>\n",
       "      <td>white-wine</td>\n",
       "      <td>Limited stock</td>\n",
       "      <td>NaN</td>\n",
       "      <td>NaN</td>\n",
       "      <td>NaN</td>\n",
       "      <td>334645</td>\n",
       "      <td>Gossips Sweet Lips Moscato  750mL</td>\n",
       "      <td>...</td>\n",
       "      <td>NaN</td>\n",
       "      <td>Sweet Lips Moscato</td>\n",
       "      <td>166</td>\n",
       "      <td>NaN</td>\n",
       "      <td>NaN</td>\n",
       "      <td>* Vintages may vary from store to store and wh...</td>\n",
       "      <td>Light Bodied</td>\n",
       "      <td>NaN</td>\n",
       "      <td>Semi Sweet</td>\n",
       "      <td>False</td>\n",
       "    </tr>\n",
       "    <tr>\n",
       "      <th>2</th>\n",
       "      <td>0</td>\n",
       "      <td>NaN</td>\n",
       "      <td>NaN</td>\n",
       "      <td>red-wine</td>\n",
       "      <td>Limited stock</td>\n",
       "      <td>NaN</td>\n",
       "      <td>NaN</td>\n",
       "      <td>NaN</td>\n",
       "      <td>800109</td>\n",
       "      <td>Wendouree Shiraz 1997  750mL</td>\n",
       "      <td>...</td>\n",
       "      <td>South Australia</td>\n",
       "      <td>Shiraz 1997</td>\n",
       "      <td>NaN</td>\n",
       "      <td>NaN</td>\n",
       "      <td>1997*</td>\n",
       "      <td>NaN</td>\n",
       "      <td>Full Bodied</td>\n",
       "      <td>NaN</td>\n",
       "      <td>Dry</td>\n",
       "      <td>False</td>\n",
       "    </tr>\n",
       "    <tr>\n",
       "      <th>3</th>\n",
       "      <td>0</td>\n",
       "      <td>NaN</td>\n",
       "      <td>NaN</td>\n",
       "      <td>red-wine</td>\n",
       "      <td>Limited stock</td>\n",
       "      <td>NaN</td>\n",
       "      <td>NaN</td>\n",
       "      <td>NaN</td>\n",
       "      <td>342393</td>\n",
       "      <td>Château Mouton Rothschild&lt;br&gt;Pauillac 1970  7...</td>\n",
       "      <td>...</td>\n",
       "      <td>NaN</td>\n",
       "      <td>Pauillac 1970</td>\n",
       "      <td>NaN</td>\n",
       "      <td>NaN</td>\n",
       "      <td>1970</td>\n",
       "      <td>NaN</td>\n",
       "      <td>NaN</td>\n",
       "      <td>NaN</td>\n",
       "      <td>Dry</td>\n",
       "      <td>False</td>\n",
       "    </tr>\n",
       "    <tr>\n",
       "      <th>4</th>\n",
       "      <td>0</td>\n",
       "      <td>NaN</td>\n",
       "      <td>NaN</td>\n",
       "      <td>red-wine</td>\n",
       "      <td>Limited stock</td>\n",
       "      <td>[{'text': {'DisplayName': 'WebReviewText1', 'V...</td>\n",
       "      <td>NaN</td>\n",
       "      <td>NaN</td>\n",
       "      <td>324024</td>\n",
       "      <td>Tahbilk Cabernet Sauvignon&lt;br&gt;2005  750mL</td>\n",
       "      <td>...</td>\n",
       "      <td>Victoria</td>\n",
       "      <td>Cabernet Sauvignon 2005</td>\n",
       "      <td>NaN</td>\n",
       "      <td>NaN</td>\n",
       "      <td>2005</td>\n",
       "      <td>NaN</td>\n",
       "      <td>Full Bodied</td>\n",
       "      <td>NaN</td>\n",
       "      <td>Dry</td>\n",
       "      <td>False</td>\n",
       "    </tr>\n",
       "    <tr>\n",
       "      <th>...</th>\n",
       "      <td>...</td>\n",
       "      <td>...</td>\n",
       "      <td>...</td>\n",
       "      <td>...</td>\n",
       "      <td>...</td>\n",
       "      <td>...</td>\n",
       "      <td>...</td>\n",
       "      <td>...</td>\n",
       "      <td>...</td>\n",
       "      <td>...</td>\n",
       "      <td>...</td>\n",
       "      <td>...</td>\n",
       "      <td>...</td>\n",
       "      <td>...</td>\n",
       "      <td>...</td>\n",
       "      <td>...</td>\n",
       "      <td>...</td>\n",
       "      <td>...</td>\n",
       "      <td>...</td>\n",
       "      <td>...</td>\n",
       "      <td>...</td>\n",
       "    </tr>\n",
       "    <tr>\n",
       "      <th>22601</th>\n",
       "      <td>0</td>\n",
       "      <td>NaN</td>\n",
       "      <td>NaN</td>\n",
       "      <td>red-wine</td>\n",
       "      <td>Limited stock</td>\n",
       "      <td>[{'text': {'DisplayName': 'WebReviewText1', 'V...</td>\n",
       "      <td>NaN</td>\n",
       "      <td>NaN</td>\n",
       "      <td>912313</td>\n",
       "      <td>Katnook Estate Cabernet&lt;br&gt;Sauvignon 1999  750mL</td>\n",
       "      <td>...</td>\n",
       "      <td>South Australia</td>\n",
       "      <td>Cabernet Sauvignon 1999</td>\n",
       "      <td>NaN</td>\n",
       "      <td>NaN</td>\n",
       "      <td>1999</td>\n",
       "      <td>NaN</td>\n",
       "      <td>Full Bodied</td>\n",
       "      <td>NaN</td>\n",
       "      <td>Dry</td>\n",
       "      <td>False</td>\n",
       "    </tr>\n",
       "    <tr>\n",
       "      <th>22602</th>\n",
       "      <td>0</td>\n",
       "      <td>NaN</td>\n",
       "      <td>NaN</td>\n",
       "      <td>red-wine</td>\n",
       "      <td>Limited stock</td>\n",
       "      <td>[{'text': {'DisplayName': 'WebReviewText1', 'V...</td>\n",
       "      <td>NaN</td>\n",
       "      <td>NaN</td>\n",
       "      <td>912219</td>\n",
       "      <td>Château Cheval Blanc&lt;br&gt;Saint-émilion 2004......</td>\n",
       "      <td>...</td>\n",
       "      <td>NaN</td>\n",
       "      <td>Saint-Émilion 2004</td>\n",
       "      <td>NaN</td>\n",
       "      <td>NaN</td>\n",
       "      <td>2004</td>\n",
       "      <td>NaN</td>\n",
       "      <td>Full Bodied</td>\n",
       "      <td>NaN</td>\n",
       "      <td>Dry</td>\n",
       "      <td>False</td>\n",
       "    </tr>\n",
       "    <tr>\n",
       "      <th>22603</th>\n",
       "      <td>0</td>\n",
       "      <td>NaN</td>\n",
       "      <td>NaN</td>\n",
       "      <td>red-wine</td>\n",
       "      <td>Limited stock</td>\n",
       "      <td>[{'text': {'DisplayName': 'WebReviewText1', 'V...</td>\n",
       "      <td>NaN</td>\n",
       "      <td>NaN</td>\n",
       "      <td>20345</td>\n",
       "      <td>Wynns Shiraz  750mL</td>\n",
       "      <td>...</td>\n",
       "      <td>South Australia</td>\n",
       "      <td>Shiraz</td>\n",
       "      <td>76</td>\n",
       "      <td>https://www.youtube.com/embed/64vuLn-MxwY</td>\n",
       "      <td>NaN</td>\n",
       "      <td>* Vintages may vary from store to store and wh...</td>\n",
       "      <td>Full Bodied</td>\n",
       "      <td>Sue Hodder</td>\n",
       "      <td>Dry</td>\n",
       "      <td>False</td>\n",
       "    </tr>\n",
       "    <tr>\n",
       "      <th>22604</th>\n",
       "      <td>0</td>\n",
       "      <td>NaN</td>\n",
       "      <td>NaN</td>\n",
       "      <td>red-wine</td>\n",
       "      <td>Limited stock</td>\n",
       "      <td>NaN</td>\n",
       "      <td>NaN</td>\n",
       "      <td>NaN</td>\n",
       "      <td>904232</td>\n",
       "      <td>Heathcote Winery Mail Coach&lt;br&gt;Shiraz  750mL</td>\n",
       "      <td>...</td>\n",
       "      <td>Victoria</td>\n",
       "      <td>Mail Coach Shiraz</td>\n",
       "      <td>4</td>\n",
       "      <td>NaN</td>\n",
       "      <td>2018*</td>\n",
       "      <td>* Vintages may vary from store to store and wh...</td>\n",
       "      <td>Full Bodied</td>\n",
       "      <td>Rachel Broker</td>\n",
       "      <td>Dry</td>\n",
       "      <td>False</td>\n",
       "    </tr>\n",
       "    <tr>\n",
       "      <th>22605</th>\n",
       "      <td>0</td>\n",
       "      <td>NaN</td>\n",
       "      <td>NaN</td>\n",
       "      <td>red-wine</td>\n",
       "      <td>Limited stock</td>\n",
       "      <td>NaN</td>\n",
       "      <td>NaN</td>\n",
       "      <td>NaN</td>\n",
       "      <td>909116</td>\n",
       "      <td>Seresin Leah Pinot Noir  750mL</td>\n",
       "      <td>...</td>\n",
       "      <td>NaN</td>\n",
       "      <td>Leah Pinot Noir</td>\n",
       "      <td>NaN</td>\n",
       "      <td>NaN</td>\n",
       "      <td>2016*</td>\n",
       "      <td>* Vintages may vary from store to store and wh...</td>\n",
       "      <td>Light Bodied</td>\n",
       "      <td>NaN</td>\n",
       "      <td>Dry</td>\n",
       "      <td>False</td>\n",
       "    </tr>\n",
       "  </tbody>\n",
       "</table>\n",
       "<p>21819 rows × 196 columns</p>\n",
       "</div>"
      ],
      "text/plain": [
       "       Unnamed: 0  RecommendedProducts  ProductsInSameOffer  Categories  \\\n",
       "0               0                  NaN                  NaN    red-wine   \n",
       "1               0                  NaN                  NaN  white-wine   \n",
       "2               0                  NaN                  NaN    red-wine   \n",
       "3               0                  NaN                  NaN    red-wine   \n",
       "4               0                  NaN                  NaN    red-wine   \n",
       "...           ...                  ...                  ...         ...   \n",
       "22601           0                  NaN                  NaN    red-wine   \n",
       "22602           0                  NaN                  NaN    red-wine   \n",
       "22603           0                  NaN                  NaN    red-wine   \n",
       "22604           0                  NaN                  NaN    red-wine   \n",
       "22605           0                  NaN                  NaN    red-wine   \n",
       "\n",
       "      BackorderMessage                                            Reviews  \\\n",
       "0        Limited stock                                                NaN   \n",
       "1        Limited stock                                                NaN   \n",
       "2        Limited stock                                                NaN   \n",
       "3        Limited stock                                                NaN   \n",
       "4        Limited stock  [{'text': {'DisplayName': 'WebReviewText1', 'V...   \n",
       "...                ...                                                ...   \n",
       "22601    Limited stock  [{'text': {'DisplayName': 'WebReviewText1', 'V...   \n",
       "22602    Limited stock  [{'text': {'DisplayName': 'WebReviewText1', 'V...   \n",
       "22603    Limited stock  [{'text': {'DisplayName': 'WebReviewText1', 'V...   \n",
       "22604    Limited stock                                                NaN   \n",
       "22605    Limited stock                                                NaN   \n",
       "\n",
       "       DeliveryOptionsInfo  SavedLists Stockcode  \\\n",
       "0                      NaN         NaN    133780   \n",
       "1                      NaN         NaN    334645   \n",
       "2                      NaN         NaN    800109   \n",
       "3                      NaN         NaN    342393   \n",
       "4                      NaN         NaN    324024   \n",
       "...                    ...         ...       ...   \n",
       "22601                  NaN         NaN    912313   \n",
       "22602                  NaN         NaN    912219   \n",
       "22603                  NaN         NaN     20345   \n",
       "22604                  NaN         NaN    904232   \n",
       "22605                  NaN         NaN    909116   \n",
       "\n",
       "                                             Description  ...  \\\n",
       "0       Dalwhinnie Moonambel<br>Cabernet Sauvignon......  ...   \n",
       "1                      Gossips Sweet Lips Moscato  750mL  ...   \n",
       "2                           Wendouree Shiraz 1997  750mL  ...   \n",
       "3       Château Mouton Rothschild<br>Pauillac 1970  7...  ...   \n",
       "4              Tahbilk Cabernet Sauvignon<br>2005  750mL  ...   \n",
       "...                                                  ...  ...   \n",
       "22601   Katnook Estate Cabernet<br>Sauvignon 1999  750mL  ...   \n",
       "22602   Château Cheval Blanc<br>Saint-émilion 2004......  ...   \n",
       "22603                                Wynns Shiraz  750mL  ...   \n",
       "22604       Heathcote Winery Mail Coach<br>Shiraz  750mL  ...   \n",
       "22605                     Seresin Leah Pinot Noir  750mL  ...   \n",
       "\n",
       "      webstateoforigin                      webtitle webtotalreviewcount  \\\n",
       "0             Victoria  Moonambel Cabernet Sauvignon                 NaN   \n",
       "1                  NaN            Sweet Lips Moscato                 166   \n",
       "2      South Australia                   Shiraz 1997                 NaN   \n",
       "3                  NaN                 Pauillac 1970                 NaN   \n",
       "4             Victoria       Cabernet Sauvignon 2005                 NaN   \n",
       "...                ...                           ...                 ...   \n",
       "22601  South Australia       Cabernet Sauvignon 1999                 NaN   \n",
       "22602              NaN            Saint-Émilion 2004                 NaN   \n",
       "22603  South Australia                        Shiraz                  76   \n",
       "22604         Victoria             Mail Coach Shiraz                   4   \n",
       "22605              NaN               Leah Pinot Noir                 NaN   \n",
       "\n",
       "                                     webvideourl  webvintagecurrent  \\\n",
       "0                                            NaN              2016*   \n",
       "1                                            NaN                NaN   \n",
       "2                                            NaN              1997*   \n",
       "3                                            NaN               1970   \n",
       "4                                            NaN               2005   \n",
       "...                                          ...                ...   \n",
       "22601                                        NaN               1999   \n",
       "22602                                        NaN               2004   \n",
       "22603  https://www.youtube.com/embed/64vuLn-MxwY                NaN   \n",
       "22604                                        NaN              2018*   \n",
       "22605                                        NaN              2016*   \n",
       "\n",
       "                                          webvintagenote   webwinebody  \\\n",
       "0      * Vintages may vary from store to store and wh...   Full Bodied   \n",
       "1      * Vintages may vary from store to store and wh...  Light Bodied   \n",
       "2                                                    NaN   Full Bodied   \n",
       "3                                                    NaN           NaN   \n",
       "4                                                    NaN   Full Bodied   \n",
       "...                                                  ...           ...   \n",
       "22601                                                NaN   Full Bodied   \n",
       "22602                                                NaN   Full Bodied   \n",
       "22603  * Vintages may vary from store to store and wh...   Full Bodied   \n",
       "22604  * Vintages may vary from store to store and wh...   Full Bodied   \n",
       "22605  * Vintages may vary from store to store and wh...  Light Bodied   \n",
       "\n",
       "        webwinemaker  webwinestyle  Mystery  \n",
       "0                NaN           Dry    False  \n",
       "1                NaN    Semi Sweet    False  \n",
       "2                NaN           Dry    False  \n",
       "3                NaN           Dry    False  \n",
       "4                NaN           Dry    False  \n",
       "...              ...           ...      ...  \n",
       "22601            NaN           Dry    False  \n",
       "22602            NaN           Dry    False  \n",
       "22603     Sue Hodder           Dry    False  \n",
       "22604  Rachel Broker           Dry    False  \n",
       "22605            NaN           Dry    False  \n",
       "\n",
       "[21819 rows x 196 columns]"
      ]
     },
     "execution_count": 159,
     "metadata": {},
     "output_type": "execute_result"
    }
   ],
   "source": []
  },
  {
   "cell_type": "code",
   "execution_count": 95,
   "metadata": {},
   "outputs": [
    {
     "name": "stderr",
     "output_type": "stream",
     "text": [
      "/home/stu/anaconda3/lib/python3.7/site-packages/ipykernel_launcher.py:1: SettingWithCopyWarning: \n",
      "A value is trying to be set on a copy of a slice from a DataFrame.\n",
      "Try using .loc[row_indexer,col_indexer] = value instead\n",
      "\n",
      "See the caveats in the documentation: https://pandas.pydata.org/pandas-docs/stable/user_guide/indexing.html#returning-a-view-versus-a-copy\n",
      "  \"\"\"Entry point for launching an IPython kernel.\n"
     ]
    }
   ],
   "source": [
    "df1[\"Savings\"] = df1[\"Prices.promoprice.BeforePromotion\"] - df1[\"Prices.promoprice.AfterPromotion\"]"
   ]
  },
  {
   "cell_type": "code",
   "execution_count": 98,
   "metadata": {},
   "outputs": [],
   "source": [
    "df1.to_csv(\"Savings\")"
   ]
  },
  {
   "cell_type": "code",
   "execution_count": 114,
   "metadata": {},
   "outputs": [],
   "source": [
    "testing = df['RichDescription'][5]"
   ]
  },
  {
   "cell_type": "code",
   "execution_count": 116,
   "metadata": {},
   "outputs": [
    {
     "data": {
      "text/plain": [
       "'This delicious Pinot Noir from the Giesen winery is a lighter red with plenty of complex flavour. Rich blackberry forms the base of this wine, with hints of spice and oak adding depth. Crack open yours straight away, or leave it to rest and mature.'"
      ]
     },
     "execution_count": 116,
     "metadata": {},
     "output_type": "execute_result"
    }
   ],
   "source": [
    "testing"
   ]
  },
  {
   "cell_type": "code",
   "execution_count": 139,
   "metadata": {},
   "outputs": [],
   "source": [
    "\n",
    "df1 = wide[wide[\"Mystery\"]]\n",
    "df2 = wide[~wide[\"Mystery\"]]\n",
    "\n",
    "df = df2.reset_index()\n",
    "df['text'] = df['RichDescription'] + df['webdescriptionshort']\n",
    "df.shape\n",
    "\n",
    "nlp = en_core_web_sm.load()\n",
    "nlp = spacy.load(\"en_core_web_sm\")"
   ]
  },
  {
   "cell_type": "code",
   "execution_count": 138,
   "metadata": {},
   "outputs": [
    {
     "data": {
      "text/plain": [
       "<pandas.core.strings.StringMethods at 0x7ff73260cf90>"
      ]
     },
     "execution_count": 138,
     "metadata": {},
     "output_type": "execute_result"
    }
   ],
   "source": []
  },
  {
   "cell_type": "markdown",
   "metadata": {},
   "source": []
  },
  {
   "cell_type": "code",
   "execution_count": 140,
   "metadata": {},
   "outputs": [
    {
     "name": "stderr",
     "output_type": "stream",
     "text": [
      "21821it [00:05, 3935.10it/s]\n"
     ]
    }
   ],
   "source": [
    "\n",
    "\n",
    "tok_text=[] # for our tokenised corpus\n",
    "text = df.text.str.lower().values\n",
    "text = [ftfy.fix_text(str(i)) for i in text]\n",
    "#Tokenising using SpaCy:pwd\n",
    "for doc in tqdm(nlp.pipe(text, n_threads=2, disable=[\"tagger\", \"parser\",\"ner\"])):\n",
    "    tok = [t.text for t in doc if (t.is_ascii and not t.is_punct and not t.is_space)]\n",
    "    tok_text.append(tok)\n"
   ]
  },
  {
   "cell_type": "markdown",
   "metadata": {},
   "source": [
    "## Fast Text"
   ]
  },
  {
   "cell_type": "code",
   "execution_count": 141,
   "metadata": {},
   "outputs": [],
   "source": [
    "ft_model = FastText(\n",
    "    sg=1, # use skip-gram: usually gives better results\n",
    "    size=100, # embedding dimension (default)\n",
    "    window=10, # window size: 10 tokens before and 10 tokens after to get wider context\n",
    "    min_count=5, # only consider tokens with at least n occurrences in the corpus\n",
    "    negative=15, # negative subsampling: bigger than default to sample negative examples more\n",
    "    min_n=3, # min character n-gram\n",
    "    max_n=5 # max character n-gram\n",
    ")\n",
    "\n",
    "ft_model.build_vocab(tok_text)\n",
    "\n",
    "ft_model.train(\n",
    "    tok_text,\n",
    "    epochs=6,\n",
    "    total_examples=ft_model.corpus_count, \n",
    "    total_words=ft_model.corpus_total_words)\n",
    "\n",
    "ft_model.save('_fasttext.model')"
   ]
  },
  {
   "cell_type": "markdown",
   "metadata": {},
   "source": [
    "## Load fasttext and query"
   ]
  },
  {
   "cell_type": "code",
   "execution_count": 142,
   "metadata": {},
   "outputs": [],
   "source": [
    "ft_model = FastText.load('_fasttext.model')"
   ]
  },
  {
   "cell_type": "code",
   "execution_count": 145,
   "metadata": {},
   "outputs": [
    {
     "data": {
      "image/png": "[encoded data removed]",
      "text/plain": [
       "<Figure size 432x432 with 1 Axes>"
      ]
     },
     "metadata": {},
     "output_type": "display_data"
    }
   ],
   "source": [
    "with plt.xkcd():\n",
    "  pd.DataFrame(ft_model.wv.most_similar(\"blackberry\", topn=10, restrict_vocab=10000),columns=['Word','Score']).plot.barh(x='Word',figsize=(6,6),color=(0.3,0.7,0.7))"
   ]
  },
  {
   "cell_type": "code",
   "execution_count": 146,
   "metadata": {},
   "outputs": [
    {
     "data": {
      "image/png": "[encoded data removed]",
      "text/plain": [
       "<Figure size 432x432 with 1 Axes>"
      ]
     },
     "metadata": {},
     "output_type": "display_data"
    }
   ],
   "source": [
    "with plt.xkcd():\n",
    "  pd.DataFrame(ft_model.wv.most_similar(\"shiraz\", topn=10, restrict_vocab=10000),columns=['Word','Score']).plot.barh(x='Word',figsize=(6,6),color=(0.3,0.7,0.7))"
   ]
  },
  {
   "cell_type": "markdown",
   "metadata": {},
   "source": [
    "## Creating BM25 document vectors"
   ]
  },
  {
   "cell_type": "code",
   "execution_count": 147,
   "metadata": {},
   "outputs": [
    {
     "name": "stderr",
     "output_type": "stream",
     "text": [
      "0it [00:00, ?it/s]/home/stu/anaconda3/lib/python3.7/site-packages/ipykernel_launcher.py:8: DeprecationWarning: Call to deprecated `__getitem__` (Method will be removed in 4.0.0, use self.wv.__getitem__() instead).\n",
      "  \n",
      "14459it [00:09, 1639.20it/s]/home/stu/anaconda3/lib/python3.7/site-packages/numpy/core/fromnumeric.py:3335: RuntimeWarning: Mean of empty slice.\n",
      "  out=out, **kwargs)\n",
      "/home/stu/anaconda3/lib/python3.7/site-packages/numpy/core/_methods.py:161: RuntimeWarning: invalid value encountered in double_scalars\n",
      "  ret = ret.dtype.type(ret / rcount)\n",
      "21821it [00:13, 1591.65it/s]\n"
     ]
    }
   ],
   "source": [
    "import math\n",
    "bm25 = BM25Okapi(tok_text)\n",
    "weighted_doc_vects = []\n",
    "\n",
    "for i,doc in tqdm(enumerate(tok_text)):\n",
    "  doc_vector = []\n",
    "  for word in doc:\n",
    "    vector = ft_model[word]\n",
    "    weight = (bm25.idf[word] * ((bm25.k1 + 1.0)*bm25.doc_freqs[i][word])) \n",
    "    / \n",
    "    (bm25.k1 * (1.0 - bm25.b + bm25.b *(bm25.doc_len[i]/bm25.avgdl))+bm25.doc_freqs[i][word])\n",
    "    weighted_vector = vector * weight\n",
    "    doc_vector.append(weighted_vector)\n",
    "  doc_vector_mean = np.mean(doc_vector,axis=0)\n",
    "  weighted_doc_vects.append(doc_vector_mean)"
   ]
  },
  {
   "cell_type": "code",
   "execution_count": 46,
   "metadata": {},
   "outputs": [],
   "source": [
    "pickle.dump( weighted_doc_vects, open( \"weighted_doc_vects.p\", \"wb\" ) )"
   ]
  },
  {
   "cell_type": "markdown",
   "metadata": {},
   "source": [
    "## Load document vectors, build index and search:"
   ]
  },
  {
   "cell_type": "code",
   "execution_count": 71,
   "metadata": {},
   "outputs": [
    {
     "data": {
      "text/plain": [
       "nan"
      ]
     },
     "execution_count": 71,
     "metadata": {},
     "output_type": "execute_result"
    }
   ],
   "source": [
    "#weighted_doc_vects.pop(2428) # No idea whats wrong with this one. Lets drop for now."
   ]
  },
  {
   "cell_type": "code",
   "execution_count": 149,
   "metadata": {},
   "outputs": [
    {
     "data": {
      "text/plain": [
       "nan"
      ]
     },
     "execution_count": 149,
     "metadata": {},
     "output_type": "execute_result"
    }
   ],
   "source": [
    "weighted_doc_vects.pop(14784)"
   ]
  },
  {
   "cell_type": "code",
   "execution_count": 150,
   "metadata": {},
   "outputs": [],
   "source": [
    "#with open( \"weighted_doc_vects.p\", \"rb\" ) as f:\n",
    "#  weighted_doc_vects = pickle.load(f)\n",
    "# create a random matrix to index\n",
    "data = np.vstack(weighted_doc_vects)\n",
    "\n",
    "# initialize a new index, using a HNSW index on Cosine Similarity - can take a couple of mins\n",
    "index = nmslib.init(method='hnsw', space='cosinesimil')\n",
    "index.addDataPointBatch(data)\n",
    "index.createIndex({'post': 2}, print_progress=True)"
   ]
  },
  {
   "cell_type": "code",
   "execution_count": 160,
   "metadata": {},
   "outputs": [
    {
     "name": "stdout",
     "output_type": "stream",
     "text": [
      "Searched 21821 records in 0.0005 seconds \n",
      "\n",
      "0.03\n",
      "Sourced from a single vineyard site in the Strathbogie Ranges, ideally suited to growing aromatic and balanced Pinot Gris. The cool nights here allow the fruit to reach optimum ripeness whilst retaining an elegant balance between flavour, alcohol and acidity. This wine by Pacha Mama underwent lees stirring while in barrel, resulting in a buttery richness and complexity that sets the pinot gris style apart from the tighter, more acidic Pinot Grigio. Rich and inviting nose with white musk, fresh qSourced from a single vineyard site in the Strathbogie Ranges, ideally suited to growing aromatic and balanced Pinot Gris. The cool nights here allow the fruit to reach optimum ripeness whilst retaining an elegant balance between flavour, alcohol and acidity. This wine by Pacha Mama underwent lees stirring while in barrel, resulting in a buttery richness and complexity that sets the pinot gris style apart from the tighter, more acidic Pinot Grigio. Rich and inviting nose with white musk, fresh quince and honeysuckle. A generous and textural palate, with flavours of cr?me brulee, lemon zest and musk, balanced by refreshing acidity and a satisfying, clean finish.\n",
      "0.03\n",
      "Relative newcomers Quarry Hill score high marks all round with this mouth-watering Pinot Noir. Signature notes of plum, spice and cherry form the nose, while earthier flavours and hints of mint come through on the palate.Recent addition to the quality Canberra District wine scene, Quarry Hill have shown an ability to mix it with the big boys. Fruit from their vineyards are even purchased by iconic wineries such as Clonakilla. The Pinot Noir is sourced from quality estate vineyards which has produced a wine of elegance and power. Aromas of mixed spice, plum and cherry fruit and foresty, minty overtones mingle with flavours of spicy red plums and red berries, with some subtle sweet oak. Bright acids complement the fruit characters which translates into a long, luscious finish.\n",
      "0.04\n",
      "Self taught winemaker Rainer Breit is one of a kind. He makes expressive wines of character and charm. The Bellarine Selection from Curlewis is sourced from low-yielding vineyards and made using extended French oak maturation. Black cherry and plum characters mingle with earthy, gamey overtones in this delicious Pinot noir. Unfined and unfiltered, it's vegan friendly.Curlewis Winery is located on the Bellarine Peninsula and enjoys a cool maritime climate. The soil is black cracking clay over limestone - marl. The vines rarely produce more than 1.5 tons per acre. The result is premium fruit of low yields which produces complex, well balanced, and sophisticated wines. The 2016 vintage shows a fragrant and savoury bouquet, showing red berry and forest floor notes. Palate: Light bodied with soft and lingering tannins. Savoury forestry flavours. The acidity gives the wine good structure.\n",
      "0.04\n",
      "This wine is crafted from hand picked Shiraz grapes from two of the oldest vineyards in the Hunter Valley. Quality fruit produces a beautifully rich and seamless palate of sweet red and blackberry fruit, combined with dense vanilla oak and a chocolatey finish. Ideal for long term cellering.This wine is crafted from hand picked Shiraz grapes from two of the oldest vineyards in the Hunter Valley. Quality fruit produces a beautifully rich and seamless palate of sweet red and blackberry fruit, combined with dense vanilla oak and a chocolatey finish. Ideal for long term cellering.\n",
      "0.04\n",
      "This Fowles Wine 490 Metres Shiraz is a mature red with intense layers of flavour to dive into. An enticing nose of cherry and blackcurrant give way to a fruity palate that's enriched with hints of chocolate, oak and spice.Fowles Wine 490 Metres Shiraz is a classic Central Victorian Shiraz that shows vibrant, plump and peppery notes up front with cherry and blackcurrant aromas melding with chocolate, spice and oak characters. On the palate, juicy fruits and a silky firm finish.\n"
     ]
    },
    {
     "name": "stderr",
     "output_type": "stream",
     "text": [
      "/home/stu/anaconda3/lib/python3.7/site-packages/ipykernel_launcher.py:5: DeprecationWarning: Call to deprecated `__getitem__` (Method will be removed in 4.0.0, use self.wv.__getitem__() instead).\n",
      "  \"\"\"\n"
     ]
    }
   ],
   "source": [
    "# querying the index:\n",
    "input = 'This Secret Selection Shiraz is sourced from a vineyard above sea level in Eden Valley region. The low-yielding crops produced wines that had rich aromas of ripe plums, black fruits and wild cherry with hints of warm spices and vanilla oak. A beautifully balanced wine with a length finish.'.lower().split()\n",
    "#input = testing\n",
    "\n",
    "query = [ft_model[vec] for vec in input]\n",
    "query = np.mean(query,axis=0)\n",
    "\n",
    "t0 = time.time()\n",
    "ids, distances = index.knnQuery(query, k=5)\n",
    "t1 = time.time()\n",
    "print(f'Searched {df.shape[0]} records in {round(t1-t0,4) } seconds \\n')\n",
    "for i,j in zip(ids,distances):\n",
    "  print(round(j,2))\n",
    "  print(df.text.values[i])"
   ]
  },
  {
   "cell_type": "code",
   "execution_count": 136,
   "metadata": {},
   "outputs": [
    {
     "data": {
      "text/plain": [
       "'This delicious Pinot Noir from the Giesen winery is a lighter red with plenty of complex flavour. Rich blackberry forms the base of this wine, with hints of spice and oak adding depth. Crack open yours straight away, or leave it to rest and mature.'"
      ]
     },
     "execution_count": 136,
     "metadata": {},
     "output_type": "execute_result"
    }
   ],
   "source": [
    "testing"
   ]
  },
  {
   "cell_type": "code",
   "execution_count": 14,
   "metadata": {},
   "outputs": [
    {
     "data": {
      "text/html": [
       "<div>\n",
       "<style scoped>\n",
       "    .dataframe tbody tr th:only-of-type {\n",
       "        vertical-align: middle;\n",
       "    }\n",
       "\n",
       "    .dataframe tbody tr th {\n",
       "        vertical-align: top;\n",
       "    }\n",
       "\n",
       "    .dataframe thead th {\n",
       "        text-align: right;\n",
       "    }\n",
       "</style>\n",
       "<table border=\"1\" class=\"dataframe\">\n",
       "  <thead>\n",
       "    <tr style=\"text-align: right;\">\n",
       "      <th></th>\n",
       "      <th>index</th>\n",
       "      <th>Unnamed: 0</th>\n",
       "      <th>RecommendedProducts</th>\n",
       "      <th>ProductsInSameOffer</th>\n",
       "      <th>Categories</th>\n",
       "      <th>BackorderMessage</th>\n",
       "      <th>Reviews</th>\n",
       "      <th>DeliveryOptionsInfo</th>\n",
       "      <th>SavedLists</th>\n",
       "      <th>Stockcode</th>\n",
       "      <th>...</th>\n",
       "      <th>webtotalreviewcount</th>\n",
       "      <th>webvideourl</th>\n",
       "      <th>webvintagecurrent</th>\n",
       "      <th>webvintagenote</th>\n",
       "      <th>webwhiskystyle</th>\n",
       "      <th>webwinebody</th>\n",
       "      <th>webwinemaker</th>\n",
       "      <th>webwinestyle</th>\n",
       "      <th>Mystery</th>\n",
       "      <th>text</th>\n",
       "    </tr>\n",
       "  </thead>\n",
       "  <tbody>\n",
       "  </tbody>\n",
       "</table>\n",
       "<p>0 rows × 194 columns</p>\n",
       "</div>"
      ],
      "text/plain": [
       "Empty DataFrame\n",
       "Columns: [index, Unnamed: 0, RecommendedProducts, ProductsInSameOffer, Categories, BackorderMessage, Reviews, DeliveryOptionsInfo, SavedLists, Stockcode, Description, SmallImageFile, MediumImageFile, LargeImageFile, IsOnSpecial, IsMemberSpecial, IsEdrSpecial, QuantityInTrolley, Unit, MinimumQuantity, IsInTrolley, Source, SupplyLimit, PackageSize, IsForCollection, IsForDelivery, IsPurchasable, IsFindMeAvailable, ShouldShowFindMeCta, ProductTags, ProductSashes, UniqueSellingProposition, AgeRestricted, DisplayQuantity, RichDescription, IsFeaturedTag, OverallRating, NumberOfReviews, IsNew, ImageVariants, AdditionalDetails, ParentStockCode, StockOnHand, BackorderStockOnHand, IsPreSale, IsComingSoon, UrlFriendlyName, AvailablePackTypes, IsInWishList, IsInDefaultList, IsDeliveryOnly, GroupedDetails.image, GroupedDetails.workflow, PickupStoreInventoryInfo.StoreNo, PickupStoreInventoryInfo.StoreName, PickupStoreInventoryInfo.Available, PickupStoreInventoryInfo.DistanceFromDeliveryLocation, Prices.promoprice.Message, Prices.promoprice.Value, Prices.promoprice.PreText, Prices.promoprice.BeforePromotion, Prices.promoprice.AfterPromotion, Prices.promoprice.IsMemberOffer, Prices.inanysixprice.Message, Prices.inanysixprice.Value, Prices.inanysixprice.PreText, Prices.inanysixprice.BeforePromotion, Prices.inanysixprice.AfterPromotion, Prices.inanysixprice.IsMemberOffer, Prices.caseprice.Message, Prices.caseprice.Value, Prices.caseprice.PreText, Prices.caseprice.BeforePromotion, Prices.caseprice.AfterPromotion, Prices.caseprice.IsMemberOffer, Prices.singleprice.Message, Prices.singleprice.Value, Prices.singleprice.PreText, Prices.singleprice.BeforePromotion, Prices.singleprice.AfterPromotion, Prices.singleprice.IsMemberOffer, Inventory.availableinventoryqty, Inventory.backorderavailableinventoryqty, Inventory.backorderinventoryflag, Inventory.samedaydeliveryinventoryqty, Inventory.nextdaydeliveryinventoryqty, Inventory.pickadaydeliveryinventoryqty, Inventory.clickandcollect2hrsinventoryqty, Inventory.clickandcollect7daysinventoryqty, Inventory.findinstoreinventoryqty, Inventory.samedaydeliveryinventoryqtymessage, Inventory.nextdaydeliveryinventoryqtymessage, Inventory.pickadaydeliveryinventoryqtymessage, Inventory.clickandcollect2hrsinventoryqtymessage, Inventory.clickandcollect7daysinventoryqtymessage, Inventory.findinstoreinventoryqtymessage, Inventory.isfindme2hrsinventoryavailable, Inventory.isfindme7daysinventoryavailable, Inventory.isfindmedeliveryinventoryavailable, GroupedDetails.video, ...]\n",
       "Index: []\n",
       "\n",
       "[0 rows x 194 columns]"
      ]
     },
     "execution_count": 14,
     "metadata": {},
     "output_type": "execute_result"
    }
   ],
   "source": [
    "df[df[\"text\"] == \"A generous wine full of rich, ripe of bramble fruits, dark plum, peppery spice and savoury nuances. The palate is supported by well-integrated tannins providing structure and a long, fine finish.\"]"
   ]
  },
  {
   "cell_type": "code",
   "execution_count": 15,
   "metadata": {},
   "outputs": [
    {
     "data": {
      "text/plain": [
       "0       130687\n",
       "1       132881\n",
       "2       830650\n",
       "3        86072\n",
       "4        11021\n",
       "         ...  \n",
       "6245    916397\n",
       "6246    916586\n",
       "6247    742551\n",
       "6248    900067\n",
       "6249      9504\n",
       "Name: Stockcode, Length: 6250, dtype: object"
      ]
     },
     "execution_count": 15,
     "metadata": {},
     "output_type": "execute_result"
    }
   ],
   "source": [
    "df[\"Stockcode\"]"
   ]
  },
  {
   "cell_type": "code",
   "execution_count": 19,
   "metadata": {},
   "outputs": [
    {
     "data": {
      "text/html": [
       "<div>\n",
       "<style scoped>\n",
       "    .dataframe tbody tr th:only-of-type {\n",
       "        vertical-align: middle;\n",
       "    }\n",
       "\n",
       "    .dataframe tbody tr th {\n",
       "        vertical-align: top;\n",
       "    }\n",
       "\n",
       "    .dataframe thead th {\n",
       "        text-align: right;\n",
       "    }\n",
       "</style>\n",
       "<table border=\"1\" class=\"dataframe\">\n",
       "  <thead>\n",
       "    <tr style=\"text-align: right;\">\n",
       "      <th></th>\n",
       "      <th>index</th>\n",
       "      <th>Unnamed: 0</th>\n",
       "      <th>RecommendedProducts</th>\n",
       "      <th>ProductsInSameOffer</th>\n",
       "      <th>Categories</th>\n",
       "      <th>BackorderMessage</th>\n",
       "      <th>Reviews</th>\n",
       "      <th>DeliveryOptionsInfo</th>\n",
       "      <th>SavedLists</th>\n",
       "      <th>Stockcode</th>\n",
       "      <th>...</th>\n",
       "      <th>webtotalreviewcount</th>\n",
       "      <th>webvideourl</th>\n",
       "      <th>webvintagecurrent</th>\n",
       "      <th>webvintagenote</th>\n",
       "      <th>webwhiskystyle</th>\n",
       "      <th>webwinebody</th>\n",
       "      <th>webwinemaker</th>\n",
       "      <th>webwinestyle</th>\n",
       "      <th>Mystery</th>\n",
       "      <th>text</th>\n",
       "    </tr>\n",
       "  </thead>\n",
       "  <tbody>\n",
       "  </tbody>\n",
       "</table>\n",
       "<p>0 rows × 194 columns</p>\n",
       "</div>"
      ],
      "text/plain": [
       "Empty DataFrame\n",
       "Columns: [index, Unnamed: 0, RecommendedProducts, ProductsInSameOffer, Categories, BackorderMessage, Reviews, DeliveryOptionsInfo, SavedLists, Stockcode, Description, SmallImageFile, MediumImageFile, LargeImageFile, IsOnSpecial, IsMemberSpecial, IsEdrSpecial, QuantityInTrolley, Unit, MinimumQuantity, IsInTrolley, Source, SupplyLimit, PackageSize, IsForCollection, IsForDelivery, IsPurchasable, IsFindMeAvailable, ShouldShowFindMeCta, ProductTags, ProductSashes, UniqueSellingProposition, AgeRestricted, DisplayQuantity, RichDescription, IsFeaturedTag, OverallRating, NumberOfReviews, IsNew, ImageVariants, AdditionalDetails, ParentStockCode, StockOnHand, BackorderStockOnHand, IsPreSale, IsComingSoon, UrlFriendlyName, AvailablePackTypes, IsInWishList, IsInDefaultList, IsDeliveryOnly, GroupedDetails.image, GroupedDetails.workflow, PickupStoreInventoryInfo.StoreNo, PickupStoreInventoryInfo.StoreName, PickupStoreInventoryInfo.Available, PickupStoreInventoryInfo.DistanceFromDeliveryLocation, Prices.promoprice.Message, Prices.promoprice.Value, Prices.promoprice.PreText, Prices.promoprice.BeforePromotion, Prices.promoprice.AfterPromotion, Prices.promoprice.IsMemberOffer, Prices.inanysixprice.Message, Prices.inanysixprice.Value, Prices.inanysixprice.PreText, Prices.inanysixprice.BeforePromotion, Prices.inanysixprice.AfterPromotion, Prices.inanysixprice.IsMemberOffer, Prices.caseprice.Message, Prices.caseprice.Value, Prices.caseprice.PreText, Prices.caseprice.BeforePromotion, Prices.caseprice.AfterPromotion, Prices.caseprice.IsMemberOffer, Prices.singleprice.Message, Prices.singleprice.Value, Prices.singleprice.PreText, Prices.singleprice.BeforePromotion, Prices.singleprice.AfterPromotion, Prices.singleprice.IsMemberOffer, Inventory.availableinventoryqty, Inventory.backorderavailableinventoryqty, Inventory.backorderinventoryflag, Inventory.samedaydeliveryinventoryqty, Inventory.nextdaydeliveryinventoryqty, Inventory.pickadaydeliveryinventoryqty, Inventory.clickandcollect2hrsinventoryqty, Inventory.clickandcollect7daysinventoryqty, Inventory.findinstoreinventoryqty, Inventory.samedaydeliveryinventoryqtymessage, Inventory.nextdaydeliveryinventoryqtymessage, Inventory.pickadaydeliveryinventoryqtymessage, Inventory.clickandcollect2hrsinventoryqtymessage, Inventory.clickandcollect7daysinventoryqtymessage, Inventory.findinstoreinventoryqtymessage, Inventory.isfindme2hrsinventoryavailable, Inventory.isfindme7daysinventoryavailable, Inventory.isfindmedeliveryinventoryavailable, GroupedDetails.video, ...]\n",
       "Index: []\n",
       "\n",
       "[0 rows x 194 columns]"
      ]
     },
     "execution_count": 19,
     "metadata": {},
     "output_type": "execute_result"
    }
   ],
   "source": [
    "df[df[\"Stockcode\"]==\"76525\"]"
   ]
  },
  {
   "cell_type": "markdown",
   "metadata": {},
   "source": [
    "## Fuzzy matching"
   ]
  },
  {
   "cell_type": "code",
   "execution_count": 84,
   "metadata": {},
   "outputs": [],
   "source": [
    "from fuzzywuzzy import fuzz\n",
    "from fuzzywuzzy import process\n",
    "\n",
    "def fuzzy_merge(df_1, df_2, key1, key2, threshold=95, limit=1):\n",
    "    \"\"\"\n",
    "    :param df_1: the left table to join\n",
    "    :param df_2: the right table to join\n",
    "    :param key1: key column of the left table\n",
    "    :param key2: key column of the right table\n",
    "    :param threshold: how close the matches should be to return a match, based on Levenshtein distance\n",
    "    :param limit: the amount of matches that will get returned, these are sorted high to low\n",
    "    :return: dataframe with boths keys and matches\n",
    "    \"\"\"\n",
    "    s = df_2[key2].tolist()\n",
    "    \n",
    "    m = df_1[key1].apply(lambda x: process.extract(x, s, limit=limit))    \n",
    "    df_1['matches'] = m\n",
    "    \n",
    "    #m2 = df_1['matches'].apply(lambda x: ', '.join([i[0] for i in x if i[1] >= threshold]))\n",
    "    #df_1['matches'] = m2\n",
    "    \n",
    "    return df_1"
   ]
  },
  {
   "cell_type": "code",
   "execution_count": 85,
   "metadata": {},
   "outputs": [],
   "source": []
  },
  {
   "cell_type": "code",
   "execution_count": 86,
   "metadata": {},
   "outputs": [
    {
     "ename": "KeyboardInterrupt",
     "evalue": "",
     "output_type": "error",
     "traceback": [
      "\u001b[0;31m---------------------------------------------------------------------------\u001b[0m",
      "\u001b[0;31mAttributeError\u001b[0m                            Traceback (most recent call last)",
      "\u001b[0;32m~/anaconda3/lib/python3.7/site-packages/fuzzywuzzy/process.py\u001b[0m in \u001b[0;36mextractWithoutOrder\u001b[0;34m(query, choices, processor, scorer, score_cutoff)\u001b[0m\n\u001b[1;32m    107\u001b[0m         \u001b[0;31m# See if choices is a dictionary-like object.\u001b[0m\u001b[0;34m\u001b[0m\u001b[0;34m\u001b[0m\u001b[0;34m\u001b[0m\u001b[0m\n\u001b[0;32m--> 108\u001b[0;31m         \u001b[0;32mfor\u001b[0m \u001b[0mkey\u001b[0m\u001b[0;34m,\u001b[0m \u001b[0mchoice\u001b[0m \u001b[0;32min\u001b[0m \u001b[0mchoices\u001b[0m\u001b[0;34m.\u001b[0m\u001b[0mitems\u001b[0m\u001b[0;34m(\u001b[0m\u001b[0;34m)\u001b[0m\u001b[0;34m:\u001b[0m\u001b[0;34m\u001b[0m\u001b[0;34m\u001b[0m\u001b[0m\n\u001b[0m\u001b[1;32m    109\u001b[0m             \u001b[0mprocessed\u001b[0m \u001b[0;34m=\u001b[0m \u001b[0mpre_processor\u001b[0m\u001b[0;34m(\u001b[0m\u001b[0mprocessor\u001b[0m\u001b[0;34m(\u001b[0m\u001b[0mchoice\u001b[0m\u001b[0;34m)\u001b[0m\u001b[0;34m)\u001b[0m\u001b[0;34m\u001b[0m\u001b[0;34m\u001b[0m\u001b[0m\n",
      "\u001b[0;31mAttributeError\u001b[0m: 'list' object has no attribute 'items'",
      "\nDuring handling of the above exception, another exception occurred:\n",
      "\u001b[0;31mKeyboardInterrupt\u001b[0m                         Traceback (most recent call last)",
      "\u001b[0;32m<ipython-input-86-fe84c9f51c6f>\u001b[0m in \u001b[0;36m<module>\u001b[0;34m\u001b[0m\n\u001b[0;32m----> 1\u001b[0;31m \u001b[0mfuzzy_merge\u001b[0m\u001b[0;34m(\u001b[0m\u001b[0mdf1\u001b[0m\u001b[0;34m,\u001b[0m \u001b[0mdf2\u001b[0m\u001b[0;34m,\u001b[0m \u001b[0;34m'webdescriptionshort'\u001b[0m\u001b[0;34m,\u001b[0m \u001b[0;34m'webdescriptionshort'\u001b[0m\u001b[0;34m,\u001b[0m \u001b[0mthreshold\u001b[0m\u001b[0;34m=\u001b[0m\u001b[0;36m80\u001b[0m\u001b[0;34m)\u001b[0m\u001b[0;34m\u001b[0m\u001b[0;34m\u001b[0m\u001b[0m\n\u001b[0m",
      "\u001b[0;32m<ipython-input-84-23679ae581e9>\u001b[0m in \u001b[0;36mfuzzy_merge\u001b[0;34m(df_1, df_2, key1, key2, threshold, limit)\u001b[0m\n\u001b[1;32m     14\u001b[0m     \u001b[0ms\u001b[0m \u001b[0;34m=\u001b[0m \u001b[0mdf_2\u001b[0m\u001b[0;34m[\u001b[0m\u001b[0mkey2\u001b[0m\u001b[0;34m]\u001b[0m\u001b[0;34m.\u001b[0m\u001b[0mtolist\u001b[0m\u001b[0;34m(\u001b[0m\u001b[0;34m)\u001b[0m\u001b[0;34m\u001b[0m\u001b[0;34m\u001b[0m\u001b[0m\n\u001b[1;32m     15\u001b[0m \u001b[0;34m\u001b[0m\u001b[0m\n\u001b[0;32m---> 16\u001b[0;31m     \u001b[0mm\u001b[0m \u001b[0;34m=\u001b[0m \u001b[0mdf_1\u001b[0m\u001b[0;34m[\u001b[0m\u001b[0mkey1\u001b[0m\u001b[0;34m]\u001b[0m\u001b[0;34m.\u001b[0m\u001b[0mapply\u001b[0m\u001b[0;34m(\u001b[0m\u001b[0;32mlambda\u001b[0m \u001b[0mx\u001b[0m\u001b[0;34m:\u001b[0m \u001b[0mprocess\u001b[0m\u001b[0;34m.\u001b[0m\u001b[0mextract\u001b[0m\u001b[0;34m(\u001b[0m\u001b[0mx\u001b[0m\u001b[0;34m,\u001b[0m \u001b[0ms\u001b[0m\u001b[0;34m,\u001b[0m \u001b[0mlimit\u001b[0m\u001b[0;34m=\u001b[0m\u001b[0mlimit\u001b[0m\u001b[0;34m)\u001b[0m\u001b[0;34m)\u001b[0m\u001b[0;34m\u001b[0m\u001b[0;34m\u001b[0m\u001b[0m\n\u001b[0m\u001b[1;32m     17\u001b[0m     \u001b[0mdf_1\u001b[0m\u001b[0;34m[\u001b[0m\u001b[0;34m'matches'\u001b[0m\u001b[0;34m]\u001b[0m \u001b[0;34m=\u001b[0m \u001b[0mm\u001b[0m\u001b[0;34m\u001b[0m\u001b[0;34m\u001b[0m\u001b[0m\n\u001b[1;32m     18\u001b[0m \u001b[0;34m\u001b[0m\u001b[0m\n",
      "\u001b[0;32m~/anaconda3/lib/python3.7/site-packages/pandas/core/series.py\u001b[0m in \u001b[0;36mapply\u001b[0;34m(self, func, convert_dtype, args, **kwds)\u001b[0m\n\u001b[1;32m   3846\u001b[0m             \u001b[0;32melse\u001b[0m\u001b[0;34m:\u001b[0m\u001b[0;34m\u001b[0m\u001b[0;34m\u001b[0m\u001b[0m\n\u001b[1;32m   3847\u001b[0m                 \u001b[0mvalues\u001b[0m \u001b[0;34m=\u001b[0m \u001b[0mself\u001b[0m\u001b[0;34m.\u001b[0m\u001b[0mastype\u001b[0m\u001b[0;34m(\u001b[0m\u001b[0mobject\u001b[0m\u001b[0;34m)\u001b[0m\u001b[0;34m.\u001b[0m\u001b[0mvalues\u001b[0m\u001b[0;34m\u001b[0m\u001b[0;34m\u001b[0m\u001b[0m\n\u001b[0;32m-> 3848\u001b[0;31m                 \u001b[0mmapped\u001b[0m \u001b[0;34m=\u001b[0m \u001b[0mlib\u001b[0m\u001b[0;34m.\u001b[0m\u001b[0mmap_infer\u001b[0m\u001b[0;34m(\u001b[0m\u001b[0mvalues\u001b[0m\u001b[0;34m,\u001b[0m \u001b[0mf\u001b[0m\u001b[0;34m,\u001b[0m \u001b[0mconvert\u001b[0m\u001b[0;34m=\u001b[0m\u001b[0mconvert_dtype\u001b[0m\u001b[0;34m)\u001b[0m\u001b[0;34m\u001b[0m\u001b[0;34m\u001b[0m\u001b[0m\n\u001b[0m\u001b[1;32m   3849\u001b[0m \u001b[0;34m\u001b[0m\u001b[0m\n\u001b[1;32m   3850\u001b[0m         \u001b[0;32mif\u001b[0m \u001b[0mlen\u001b[0m\u001b[0;34m(\u001b[0m\u001b[0mmapped\u001b[0m\u001b[0;34m)\u001b[0m \u001b[0;32mand\u001b[0m \u001b[0misinstance\u001b[0m\u001b[0;34m(\u001b[0m\u001b[0mmapped\u001b[0m\u001b[0;34m[\u001b[0m\u001b[0;36m0\u001b[0m\u001b[0;34m]\u001b[0m\u001b[0;34m,\u001b[0m \u001b[0mSeries\u001b[0m\u001b[0;34m)\u001b[0m\u001b[0;34m:\u001b[0m\u001b[0;34m\u001b[0m\u001b[0;34m\u001b[0m\u001b[0m\n",
      "\u001b[0;32mpandas/_libs/lib.pyx\u001b[0m in \u001b[0;36mpandas._libs.lib.map_infer\u001b[0;34m()\u001b[0m\n",
      "\u001b[0;32m<ipython-input-84-23679ae581e9>\u001b[0m in \u001b[0;36m<lambda>\u001b[0;34m(x)\u001b[0m\n\u001b[1;32m     14\u001b[0m     \u001b[0ms\u001b[0m \u001b[0;34m=\u001b[0m \u001b[0mdf_2\u001b[0m\u001b[0;34m[\u001b[0m\u001b[0mkey2\u001b[0m\u001b[0;34m]\u001b[0m\u001b[0;34m.\u001b[0m\u001b[0mtolist\u001b[0m\u001b[0;34m(\u001b[0m\u001b[0;34m)\u001b[0m\u001b[0;34m\u001b[0m\u001b[0;34m\u001b[0m\u001b[0m\n\u001b[1;32m     15\u001b[0m \u001b[0;34m\u001b[0m\u001b[0m\n\u001b[0;32m---> 16\u001b[0;31m     \u001b[0mm\u001b[0m \u001b[0;34m=\u001b[0m \u001b[0mdf_1\u001b[0m\u001b[0;34m[\u001b[0m\u001b[0mkey1\u001b[0m\u001b[0;34m]\u001b[0m\u001b[0;34m.\u001b[0m\u001b[0mapply\u001b[0m\u001b[0;34m(\u001b[0m\u001b[0;32mlambda\u001b[0m \u001b[0mx\u001b[0m\u001b[0;34m:\u001b[0m \u001b[0mprocess\u001b[0m\u001b[0;34m.\u001b[0m\u001b[0mextract\u001b[0m\u001b[0;34m(\u001b[0m\u001b[0mx\u001b[0m\u001b[0;34m,\u001b[0m \u001b[0ms\u001b[0m\u001b[0;34m,\u001b[0m \u001b[0mlimit\u001b[0m\u001b[0;34m=\u001b[0m\u001b[0mlimit\u001b[0m\u001b[0;34m)\u001b[0m\u001b[0;34m)\u001b[0m\u001b[0;34m\u001b[0m\u001b[0;34m\u001b[0m\u001b[0m\n\u001b[0m\u001b[1;32m     17\u001b[0m     \u001b[0mdf_1\u001b[0m\u001b[0;34m[\u001b[0m\u001b[0;34m'matches'\u001b[0m\u001b[0;34m]\u001b[0m \u001b[0;34m=\u001b[0m \u001b[0mm\u001b[0m\u001b[0;34m\u001b[0m\u001b[0;34m\u001b[0m\u001b[0m\n\u001b[1;32m     18\u001b[0m \u001b[0;34m\u001b[0m\u001b[0m\n",
      "\u001b[0;32m~/anaconda3/lib/python3.7/site-packages/fuzzywuzzy/process.py\u001b[0m in \u001b[0;36mextract\u001b[0;34m(query, choices, processor, scorer, limit)\u001b[0m\n\u001b[1;32m    166\u001b[0m     \"\"\"\n\u001b[1;32m    167\u001b[0m     \u001b[0msl\u001b[0m \u001b[0;34m=\u001b[0m \u001b[0mextractWithoutOrder\u001b[0m\u001b[0;34m(\u001b[0m\u001b[0mquery\u001b[0m\u001b[0;34m,\u001b[0m \u001b[0mchoices\u001b[0m\u001b[0;34m,\u001b[0m \u001b[0mprocessor\u001b[0m\u001b[0;34m,\u001b[0m \u001b[0mscorer\u001b[0m\u001b[0;34m)\u001b[0m\u001b[0;34m\u001b[0m\u001b[0;34m\u001b[0m\u001b[0m\n\u001b[0;32m--> 168\u001b[0;31m     \u001b[0;32mreturn\u001b[0m \u001b[0mheapq\u001b[0m\u001b[0;34m.\u001b[0m\u001b[0mnlargest\u001b[0m\u001b[0;34m(\u001b[0m\u001b[0mlimit\u001b[0m\u001b[0;34m,\u001b[0m \u001b[0msl\u001b[0m\u001b[0;34m,\u001b[0m \u001b[0mkey\u001b[0m\u001b[0;34m=\u001b[0m\u001b[0;32mlambda\u001b[0m \u001b[0mi\u001b[0m\u001b[0;34m:\u001b[0m \u001b[0mi\u001b[0m\u001b[0;34m[\u001b[0m\u001b[0;36m1\u001b[0m\u001b[0;34m]\u001b[0m\u001b[0;34m)\u001b[0m \u001b[0;32mif\u001b[0m \u001b[0mlimit\u001b[0m \u001b[0;32mis\u001b[0m \u001b[0;32mnot\u001b[0m \u001b[0;32mNone\u001b[0m \u001b[0;32melse\u001b[0m\u001b[0;31m \u001b[0m\u001b[0;31m\\\u001b[0m\u001b[0;34m\u001b[0m\u001b[0;34m\u001b[0m\u001b[0m\n\u001b[0m\u001b[1;32m    169\u001b[0m         \u001b[0msorted\u001b[0m\u001b[0;34m(\u001b[0m\u001b[0msl\u001b[0m\u001b[0;34m,\u001b[0m \u001b[0mkey\u001b[0m\u001b[0;34m=\u001b[0m\u001b[0;32mlambda\u001b[0m \u001b[0mi\u001b[0m\u001b[0;34m:\u001b[0m \u001b[0mi\u001b[0m\u001b[0;34m[\u001b[0m\u001b[0;36m1\u001b[0m\u001b[0;34m]\u001b[0m\u001b[0;34m,\u001b[0m \u001b[0mreverse\u001b[0m\u001b[0;34m=\u001b[0m\u001b[0;32mTrue\u001b[0m\u001b[0;34m)\u001b[0m\u001b[0;34m\u001b[0m\u001b[0;34m\u001b[0m\u001b[0m\n\u001b[1;32m    170\u001b[0m \u001b[0;34m\u001b[0m\u001b[0m\n",
      "\u001b[0;32m~/anaconda3/lib/python3.7/heapq.py\u001b[0m in \u001b[0;36mnlargest\u001b[0;34m(n, iterable, key)\u001b[0m\n\u001b[1;32m    535\u001b[0m             \u001b[0mresult\u001b[0m \u001b[0;34m=\u001b[0m \u001b[0mmax\u001b[0m\u001b[0;34m(\u001b[0m\u001b[0mit\u001b[0m\u001b[0;34m,\u001b[0m \u001b[0mdefault\u001b[0m\u001b[0;34m=\u001b[0m\u001b[0msentinel\u001b[0m\u001b[0;34m)\u001b[0m\u001b[0;34m\u001b[0m\u001b[0;34m\u001b[0m\u001b[0m\n\u001b[1;32m    536\u001b[0m         \u001b[0;32melse\u001b[0m\u001b[0;34m:\u001b[0m\u001b[0;34m\u001b[0m\u001b[0;34m\u001b[0m\u001b[0m\n\u001b[0;32m--> 537\u001b[0;31m             \u001b[0mresult\u001b[0m \u001b[0;34m=\u001b[0m \u001b[0mmax\u001b[0m\u001b[0;34m(\u001b[0m\u001b[0mit\u001b[0m\u001b[0;34m,\u001b[0m \u001b[0mdefault\u001b[0m\u001b[0;34m=\u001b[0m\u001b[0msentinel\u001b[0m\u001b[0;34m,\u001b[0m \u001b[0mkey\u001b[0m\u001b[0;34m=\u001b[0m\u001b[0mkey\u001b[0m\u001b[0;34m)\u001b[0m\u001b[0;34m\u001b[0m\u001b[0;34m\u001b[0m\u001b[0m\n\u001b[0m\u001b[1;32m    538\u001b[0m         \u001b[0;32mreturn\u001b[0m \u001b[0;34m[\u001b[0m\u001b[0;34m]\u001b[0m \u001b[0;32mif\u001b[0m \u001b[0mresult\u001b[0m \u001b[0;32mis\u001b[0m \u001b[0msentinel\u001b[0m \u001b[0;32melse\u001b[0m \u001b[0;34m[\u001b[0m\u001b[0mresult\u001b[0m\u001b[0;34m]\u001b[0m\u001b[0;34m\u001b[0m\u001b[0;34m\u001b[0m\u001b[0m\n\u001b[1;32m    539\u001b[0m \u001b[0;34m\u001b[0m\u001b[0m\n",
      "\u001b[0;32m~/anaconda3/lib/python3.7/site-packages/fuzzywuzzy/process.py\u001b[0m in \u001b[0;36mextractWithoutOrder\u001b[0;34m(query, choices, processor, scorer, score_cutoff)\u001b[0m\n\u001b[1;32m    115\u001b[0m         \u001b[0;32mfor\u001b[0m \u001b[0mchoice\u001b[0m \u001b[0;32min\u001b[0m \u001b[0mchoices\u001b[0m\u001b[0;34m:\u001b[0m\u001b[0;34m\u001b[0m\u001b[0;34m\u001b[0m\u001b[0m\n\u001b[1;32m    116\u001b[0m             \u001b[0mprocessed\u001b[0m \u001b[0;34m=\u001b[0m \u001b[0mpre_processor\u001b[0m\u001b[0;34m(\u001b[0m\u001b[0mprocessor\u001b[0m\u001b[0;34m(\u001b[0m\u001b[0mchoice\u001b[0m\u001b[0;34m)\u001b[0m\u001b[0;34m)\u001b[0m\u001b[0;34m\u001b[0m\u001b[0;34m\u001b[0m\u001b[0m\n\u001b[0;32m--> 117\u001b[0;31m             \u001b[0mscore\u001b[0m \u001b[0;34m=\u001b[0m \u001b[0mscorer\u001b[0m\u001b[0;34m(\u001b[0m\u001b[0mprocessed_query\u001b[0m\u001b[0;34m,\u001b[0m \u001b[0mprocessed\u001b[0m\u001b[0;34m)\u001b[0m\u001b[0;34m\u001b[0m\u001b[0;34m\u001b[0m\u001b[0m\n\u001b[0m\u001b[1;32m    118\u001b[0m             \u001b[0;32mif\u001b[0m \u001b[0mscore\u001b[0m \u001b[0;34m>=\u001b[0m \u001b[0mscore_cutoff\u001b[0m\u001b[0;34m:\u001b[0m\u001b[0;34m\u001b[0m\u001b[0;34m\u001b[0m\u001b[0m\n\u001b[1;32m    119\u001b[0m                 \u001b[0;32myield\u001b[0m \u001b[0;34m(\u001b[0m\u001b[0mchoice\u001b[0m\u001b[0;34m,\u001b[0m \u001b[0mscore\u001b[0m\u001b[0;34m)\u001b[0m\u001b[0;34m\u001b[0m\u001b[0;34m\u001b[0m\u001b[0m\n",
      "\u001b[0;32m~/anaconda3/lib/python3.7/site-packages/fuzzywuzzy/fuzz.py\u001b[0m in \u001b[0;36mWRatio\u001b[0;34m(s1, s2, force_ascii, full_process)\u001b[0m\n\u001b[1;32m    286\u001b[0m \u001b[0;34m\u001b[0m\u001b[0m\n\u001b[1;32m    287\u001b[0m     \u001b[0;32mif\u001b[0m \u001b[0mtry_partial\u001b[0m\u001b[0;34m:\u001b[0m\u001b[0;34m\u001b[0m\u001b[0;34m\u001b[0m\u001b[0m\n\u001b[0;32m--> 288\u001b[0;31m         \u001b[0mpartial\u001b[0m \u001b[0;34m=\u001b[0m \u001b[0mpartial_ratio\u001b[0m\u001b[0;34m(\u001b[0m\u001b[0mp1\u001b[0m\u001b[0;34m,\u001b[0m \u001b[0mp2\u001b[0m\u001b[0;34m)\u001b[0m \u001b[0;34m*\u001b[0m \u001b[0mpartial_scale\u001b[0m\u001b[0;34m\u001b[0m\u001b[0;34m\u001b[0m\u001b[0m\n\u001b[0m\u001b[1;32m    289\u001b[0m         \u001b[0mptsor\u001b[0m \u001b[0;34m=\u001b[0m \u001b[0mpartial_token_sort_ratio\u001b[0m\u001b[0;34m(\u001b[0m\u001b[0mp1\u001b[0m\u001b[0;34m,\u001b[0m \u001b[0mp2\u001b[0m\u001b[0;34m,\u001b[0m \u001b[0mfull_process\u001b[0m\u001b[0;34m=\u001b[0m\u001b[0;32mFalse\u001b[0m\u001b[0;34m)\u001b[0m\u001b[0;31m \u001b[0m\u001b[0;31m\\\u001b[0m\u001b[0;34m\u001b[0m\u001b[0;34m\u001b[0m\u001b[0m\n\u001b[1;32m    290\u001b[0m             \u001b[0;34m*\u001b[0m \u001b[0munbase_scale\u001b[0m \u001b[0;34m*\u001b[0m \u001b[0mpartial_scale\u001b[0m\u001b[0;34m\u001b[0m\u001b[0;34m\u001b[0m\u001b[0m\n",
      "\u001b[0;32m~/anaconda3/lib/python3.7/site-packages/fuzzywuzzy/utils.py\u001b[0m in \u001b[0;36mdecorator\u001b[0;34m(*args, **kwargs)\u001b[0m\n\u001b[1;32m     36\u001b[0m         \u001b[0;32mif\u001b[0m \u001b[0margs\u001b[0m\u001b[0;34m[\u001b[0m\u001b[0;36m0\u001b[0m\u001b[0;34m]\u001b[0m \u001b[0;32mis\u001b[0m \u001b[0;32mNone\u001b[0m \u001b[0;32mor\u001b[0m \u001b[0margs\u001b[0m\u001b[0;34m[\u001b[0m\u001b[0;36m1\u001b[0m\u001b[0;34m]\u001b[0m \u001b[0;32mis\u001b[0m \u001b[0;32mNone\u001b[0m\u001b[0;34m:\u001b[0m\u001b[0;34m\u001b[0m\u001b[0;34m\u001b[0m\u001b[0m\n\u001b[1;32m     37\u001b[0m             \u001b[0;32mreturn\u001b[0m \u001b[0;36m0\u001b[0m\u001b[0;34m\u001b[0m\u001b[0;34m\u001b[0m\u001b[0m\n\u001b[0;32m---> 38\u001b[0;31m         \u001b[0;32mreturn\u001b[0m \u001b[0mfunc\u001b[0m\u001b[0;34m(\u001b[0m\u001b[0;34m*\u001b[0m\u001b[0margs\u001b[0m\u001b[0;34m,\u001b[0m \u001b[0;34m**\u001b[0m\u001b[0mkwargs\u001b[0m\u001b[0;34m)\u001b[0m\u001b[0;34m\u001b[0m\u001b[0;34m\u001b[0m\u001b[0m\n\u001b[0m\u001b[1;32m     39\u001b[0m     \u001b[0;32mreturn\u001b[0m \u001b[0mdecorator\u001b[0m\u001b[0;34m\u001b[0m\u001b[0;34m\u001b[0m\u001b[0m\n\u001b[1;32m     40\u001b[0m \u001b[0;34m\u001b[0m\u001b[0m\n",
      "\u001b[0;32m~/anaconda3/lib/python3.7/site-packages/fuzzywuzzy/utils.py\u001b[0m in \u001b[0;36mdecorator\u001b[0;34m(*args, **kwargs)\u001b[0m\n\u001b[1;32m     27\u001b[0m         \u001b[0;32mif\u001b[0m \u001b[0margs\u001b[0m\u001b[0;34m[\u001b[0m\u001b[0;36m0\u001b[0m\u001b[0;34m]\u001b[0m \u001b[0;34m==\u001b[0m \u001b[0margs\u001b[0m\u001b[0;34m[\u001b[0m\u001b[0;36m1\u001b[0m\u001b[0;34m]\u001b[0m\u001b[0;34m:\u001b[0m\u001b[0;34m\u001b[0m\u001b[0;34m\u001b[0m\u001b[0m\n\u001b[1;32m     28\u001b[0m             \u001b[0;32mreturn\u001b[0m \u001b[0;36m100\u001b[0m\u001b[0;34m\u001b[0m\u001b[0;34m\u001b[0m\u001b[0m\n\u001b[0;32m---> 29\u001b[0;31m         \u001b[0;32mreturn\u001b[0m \u001b[0mfunc\u001b[0m\u001b[0;34m(\u001b[0m\u001b[0;34m*\u001b[0m\u001b[0margs\u001b[0m\u001b[0;34m,\u001b[0m \u001b[0;34m**\u001b[0m\u001b[0mkwargs\u001b[0m\u001b[0;34m)\u001b[0m\u001b[0;34m\u001b[0m\u001b[0;34m\u001b[0m\u001b[0m\n\u001b[0m\u001b[1;32m     30\u001b[0m     \u001b[0;32mreturn\u001b[0m \u001b[0mdecorator\u001b[0m\u001b[0;34m\u001b[0m\u001b[0;34m\u001b[0m\u001b[0m\n\u001b[1;32m     31\u001b[0m \u001b[0;34m\u001b[0m\u001b[0m\n",
      "\u001b[0;32m~/anaconda3/lib/python3.7/site-packages/fuzzywuzzy/utils.py\u001b[0m in \u001b[0;36mdecorator\u001b[0;34m(*args, **kwargs)\u001b[0m\n\u001b[1;32m     45\u001b[0m         \u001b[0;32mif\u001b[0m \u001b[0mlen\u001b[0m\u001b[0;34m(\u001b[0m\u001b[0margs\u001b[0m\u001b[0;34m[\u001b[0m\u001b[0;36m0\u001b[0m\u001b[0;34m]\u001b[0m\u001b[0;34m)\u001b[0m \u001b[0;34m==\u001b[0m \u001b[0;36m0\u001b[0m \u001b[0;32mor\u001b[0m \u001b[0mlen\u001b[0m\u001b[0;34m(\u001b[0m\u001b[0margs\u001b[0m\u001b[0;34m[\u001b[0m\u001b[0;36m1\u001b[0m\u001b[0;34m]\u001b[0m\u001b[0;34m)\u001b[0m \u001b[0;34m==\u001b[0m \u001b[0;36m0\u001b[0m\u001b[0;34m:\u001b[0m\u001b[0;34m\u001b[0m\u001b[0;34m\u001b[0m\u001b[0m\n\u001b[1;32m     46\u001b[0m             \u001b[0;32mreturn\u001b[0m \u001b[0;36m0\u001b[0m\u001b[0;34m\u001b[0m\u001b[0;34m\u001b[0m\u001b[0m\n\u001b[0;32m---> 47\u001b[0;31m         \u001b[0;32mreturn\u001b[0m \u001b[0mfunc\u001b[0m\u001b[0;34m(\u001b[0m\u001b[0;34m*\u001b[0m\u001b[0margs\u001b[0m\u001b[0;34m,\u001b[0m \u001b[0;34m**\u001b[0m\u001b[0mkwargs\u001b[0m\u001b[0;34m)\u001b[0m\u001b[0;34m\u001b[0m\u001b[0;34m\u001b[0m\u001b[0m\n\u001b[0m\u001b[1;32m     48\u001b[0m     \u001b[0;32mreturn\u001b[0m \u001b[0mdecorator\u001b[0m\u001b[0;34m\u001b[0m\u001b[0;34m\u001b[0m\u001b[0m\n\u001b[1;32m     49\u001b[0m \u001b[0;34m\u001b[0m\u001b[0m\n",
      "\u001b[0;32m~/anaconda3/lib/python3.7/site-packages/fuzzywuzzy/fuzz.py\u001b[0m in \u001b[0;36mpartial_ratio\u001b[0;34m(s1, s2)\u001b[0m\n\u001b[1;32m     60\u001b[0m \u001b[0;34m\u001b[0m\u001b[0m\n\u001b[1;32m     61\u001b[0m         \u001b[0mm2\u001b[0m \u001b[0;34m=\u001b[0m \u001b[0mSequenceMatcher\u001b[0m\u001b[0;34m(\u001b[0m\u001b[0;32mNone\u001b[0m\u001b[0;34m,\u001b[0m \u001b[0mshorter\u001b[0m\u001b[0;34m,\u001b[0m \u001b[0mlong_substr\u001b[0m\u001b[0;34m)\u001b[0m\u001b[0;34m\u001b[0m\u001b[0;34m\u001b[0m\u001b[0m\n\u001b[0;32m---> 62\u001b[0;31m         \u001b[0mr\u001b[0m \u001b[0;34m=\u001b[0m \u001b[0mm2\u001b[0m\u001b[0;34m.\u001b[0m\u001b[0mratio\u001b[0m\u001b[0;34m(\u001b[0m\u001b[0;34m)\u001b[0m\u001b[0;34m\u001b[0m\u001b[0;34m\u001b[0m\u001b[0m\n\u001b[0m\u001b[1;32m     63\u001b[0m         \u001b[0;32mif\u001b[0m \u001b[0mr\u001b[0m \u001b[0;34m>\u001b[0m \u001b[0;36m.995\u001b[0m\u001b[0;34m:\u001b[0m\u001b[0;34m\u001b[0m\u001b[0;34m\u001b[0m\u001b[0m\n\u001b[1;32m     64\u001b[0m             \u001b[0;32mreturn\u001b[0m \u001b[0;36m100\u001b[0m\u001b[0;34m\u001b[0m\u001b[0;34m\u001b[0m\u001b[0m\n",
      "\u001b[0;32m~/anaconda3/lib/python3.7/site-packages/fuzzywuzzy/StringMatcher.py\u001b[0m in \u001b[0;36mratio\u001b[0;34m(self)\u001b[0m\n\u001b[1;32m     62\u001b[0m     \u001b[0;32mdef\u001b[0m \u001b[0mratio\u001b[0m\u001b[0;34m(\u001b[0m\u001b[0mself\u001b[0m\u001b[0;34m)\u001b[0m\u001b[0;34m:\u001b[0m\u001b[0;34m\u001b[0m\u001b[0;34m\u001b[0m\u001b[0m\n\u001b[1;32m     63\u001b[0m         \u001b[0;32mif\u001b[0m \u001b[0;32mnot\u001b[0m \u001b[0mself\u001b[0m\u001b[0;34m.\u001b[0m\u001b[0m_ratio\u001b[0m\u001b[0;34m:\u001b[0m\u001b[0;34m\u001b[0m\u001b[0;34m\u001b[0m\u001b[0m\n\u001b[0;32m---> 64\u001b[0;31m             \u001b[0mself\u001b[0m\u001b[0;34m.\u001b[0m\u001b[0m_ratio\u001b[0m \u001b[0;34m=\u001b[0m \u001b[0mratio\u001b[0m\u001b[0;34m(\u001b[0m\u001b[0mself\u001b[0m\u001b[0;34m.\u001b[0m\u001b[0m_str1\u001b[0m\u001b[0;34m,\u001b[0m \u001b[0mself\u001b[0m\u001b[0;34m.\u001b[0m\u001b[0m_str2\u001b[0m\u001b[0;34m)\u001b[0m\u001b[0;34m\u001b[0m\u001b[0;34m\u001b[0m\u001b[0m\n\u001b[0m\u001b[1;32m     65\u001b[0m         \u001b[0;32mreturn\u001b[0m \u001b[0mself\u001b[0m\u001b[0;34m.\u001b[0m\u001b[0m_ratio\u001b[0m\u001b[0;34m\u001b[0m\u001b[0;34m\u001b[0m\u001b[0m\n\u001b[1;32m     66\u001b[0m \u001b[0;34m\u001b[0m\u001b[0m\n",
      "\u001b[0;31mKeyboardInterrupt\u001b[0m: "
     ]
    }
   ],
   "source": [
    "fuzzy_merge(df1, df2, 'webdescriptionshort', 'webdescriptionshort', threshold=80)"
   ]
  },
  {
   "cell_type": "code",
   "execution_count": 83,
   "metadata": {},
   "outputs": [
    {
     "ename": "NameError",
     "evalue": "name 'df_2' is not defined",
     "output_type": "error",
     "traceback": [
      "\u001b[0;31m---------------------------------------------------------------------------\u001b[0m",
      "\u001b[0;31mNameError\u001b[0m                                 Traceback (most recent call last)",
      "\u001b[0;32m<ipython-input-83-cea0dd2ab6db>\u001b[0m in \u001b[0;36m<module>\u001b[0;34m\u001b[0m\n\u001b[0;32m----> 1\u001b[0;31m \u001b[0ms\u001b[0m \u001b[0;34m=\u001b[0m \u001b[0mdf_2\u001b[0m\u001b[0;34m[\u001b[0m\u001b[0mkey2\u001b[0m\u001b[0;34m]\u001b[0m\u001b[0;34m.\u001b[0m\u001b[0mtolist\u001b[0m\u001b[0;34m(\u001b[0m\u001b[0;34m)\u001b[0m\u001b[0;34m\u001b[0m\u001b[0;34m\u001b[0m\u001b[0m\n\u001b[0m",
      "\u001b[0;31mNameError\u001b[0m: name 'df_2' is not defined"
     ]
    }
   ],
   "source": [
    "s = df_2[key2].tolist()"
   ]
  },
  {
   "cell_type": "code",
   "execution_count": null,
   "metadata": {},
   "outputs": [],
   "source": []
  },
  {
   "cell_type": "code",
   "execution_count": null,
   "metadata": {},
   "outputs": [],
   "source": []
  }
 ],
 "metadata": {
  "kernelspec": {
   "display_name": "Python 3",
   "language": "python",
   "name": "python3"
  },
  "language_info": {
   "codemirror_mode": {
    "name": "ipython",
    "version": 3
   },
   "file_extension": ".py",
   "mimetype": "text/x-python",
   "name": "python",
   "nbconvert_exporter": "python",
   "pygments_lexer": "ipython3",
   "version": "3.7.6"
  }
 },
 "nbformat": 4,
 "nbformat_minor": 4
}
